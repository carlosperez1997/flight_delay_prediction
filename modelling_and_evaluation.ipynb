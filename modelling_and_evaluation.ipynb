{
 "cells": [
  {
   "cell_type": "markdown",
   "metadata": {},
   "source": [
    "# Modelling and Evaluation"
   ]
  },
  {
   "cell_type": "code",
   "execution_count": 16,
   "metadata": {},
   "outputs": [],
   "source": [
    "# Basics\n",
    "import pandas as pd\n",
    "import numpy as np\n",
    "import time\n",
    "import os\n",
    "from os import listdir\n",
    "from os.path import isfile, join, basename\n",
    "from tqdm import tqdm\n",
    "from timeit import timeit\n",
    "import gc\n",
    "\n",
    "# Models\n",
    "from sklearn.model_selection import train_test_split\n",
    "from sklearn.model_selection import GridSearchCV\n",
    "from sklearn.model_selection import RandomizedSearchCV\n",
    "import pickle\n",
    "import joblib\n",
    "\n",
    "from sklearn.tree import DecisionTreeRegressor\n",
    "from sklearn.ensemble import RandomForestRegressor\n",
    "from sklearn.ensemble import GradientBoostingRegressor\n",
    "#import lightgbm as lgbm\n",
    "\n",
    "# Metrics\n",
    "from sklearn.metrics import mean_squared_error\n",
    "from sklearn.metrics import mean_absolute_error\n",
    "from sklearn.metrics import r2_score\n",
    "\n",
    "# Plots\n",
    "import seaborn as sns\n",
    "import matplotlib.pyplot as plt"
   ]
  },
  {
   "cell_type": "code",
   "execution_count": 17,
   "metadata": {},
   "outputs": [],
   "source": [
    "DIR = '/Users/carlosperezricardo/Desktop/TFM'\n",
    "#DIR = '/content/drive/MyDrive/TFM'\n",
    "\n",
    "TARGET = 'ARR_DELAY'"
   ]
  },
  {
   "cell_type": "code",
   "execution_count": 18,
   "metadata": {},
   "outputs": [
    {
     "data": {
      "text/plain": [
       "(1110432, 67)"
      ]
     },
     "execution_count": 18,
     "metadata": {},
     "output_type": "execute_result"
    }
   ],
   "source": [
    "df = pd.read_pickle(os.path.join(DIR,'df_preprocessed.pkl'))\n",
    "df.shape"
   ]
  },
  {
   "cell_type": "code",
   "execution_count": 19,
   "metadata": {},
   "outputs": [],
   "source": [
    "def reduce_mem_usage(df):\n",
    "    \"\"\" iterate through all the columns of a dataframe and modify the data type\n",
    "        to reduce memory usage.        \n",
    "    \"\"\"\n",
    "    start_mem = df.memory_usage().sum() / 1024**2\n",
    "    #print('Memory usage of dataframe is {:.2f} MB'.format(start_mem))\n",
    "    \n",
    "    for col in df.columns:\n",
    "        col_type = df[col].dtype\n",
    "        \n",
    "        try:\n",
    "            if col_type != object:\n",
    "                \n",
    "                c_min = df[col].min()\n",
    "                c_max = df[col].max()\n",
    "                if str(col_type)[:3] == 'int':\n",
    "                    if c_min > np.iinfo(np.int8).min and c_max < np.iinfo(np.int8).max:\n",
    "                        df[col] = df[col].astype(np.int8)\n",
    "                    elif c_min > np.iinfo(np.int16).min and c_max < np.iinfo(np.int16).max:\n",
    "                        df[col] = df[col].astype(np.int16)\n",
    "                    elif c_min > np.iinfo(np.int32).min and c_max < np.iinfo(np.int32).max:\n",
    "                        df[col] = df[col].astype(np.int32)\n",
    "                    elif c_min > np.iinfo(np.int64).min and c_max < np.iinfo(np.int64).max:\n",
    "                        df[col] = df[col].astype(np.int64)  \n",
    "                else:\n",
    "                    if c_min > np.finfo(np.float16).min and c_max < np.finfo(np.float16).max:\n",
    "                        df[col] = df[col].astype(np.float16)\n",
    "                    elif c_min > np.finfo(np.float32).min and c_max < np.finfo(np.float32).max:\n",
    "                        df[col] = df[col].astype(np.float32)\n",
    "                    else:\n",
    "                        df[col] = df[col].astype(np.float64)\n",
    "            else:\n",
    "                #df[col] = df[col].astype('category')\n",
    "                pass\n",
    "        except:\n",
    "            pass\n",
    "            \n",
    "    end_mem = df.memory_usage().sum() / 1024**2\n",
    "    #print('Memory usage after optimization is: {:.2f} MB'.format(end_mem))\n",
    "    #print('Decreased by {:.1f}%'.format(100 * (start_mem - end_mem) / start_mem))\n",
    "    \n",
    "    return df"
   ]
  },
  {
   "cell_type": "code",
   "execution_count": 20,
   "metadata": {},
   "outputs": [
    {
     "data": {
      "text/plain": [
       "Series([], dtype: int64)"
      ]
     },
     "execution_count": 20,
     "metadata": {},
     "output_type": "execute_result"
    }
   ],
   "source": [
    "df = reduce_mem_usage(df)\n",
    "\n",
    "df.isnull().sum()[df.isnull().sum()!=0]"
   ]
  },
  {
   "cell_type": "code",
   "execution_count": 21,
   "metadata": {},
   "outputs": [],
   "source": [
    "def model_metrics(X_train, y_train, X_test, y_test, model):\n",
    "\n",
    "    y_train_pred = model.predict(X_train)\n",
    "    y_test_pred = model.predict(X_test)\n",
    "    \n",
    "    train_rmse = mean_squared_error(y_train, y_train_pred, squared=False)\n",
    "    test_rmse = mean_squared_error(y_test, y_test_pred, squared=False)\n",
    "    \n",
    "    train_mae = mean_absolute_error(y_train, y_train_pred)\n",
    "    test_mae = mean_absolute_error(y_test, y_test_pred)\n",
    "\n",
    "    train_r2 = r2_score(y_train, y_train_pred)\n",
    "    test_r2 = r2_score(y_test, y_test_pred)\n",
    "\n",
    "    print(' --- TRAIN --- ')\n",
    "    print('     - RMSE: ', train_rmse)\n",
    "    print('     - MAE: ', train_mae)\n",
    "    print('     - R2: ', train_r2)\n",
    "    print(' --- TEST --- ')\n",
    "    print('     - RMSE: ', test_rmse)\n",
    "    print('     - MAE: ', test_mae)\n",
    "    print('     - R2: ', test_r2)\n",
    "\n",
    "    return train_rmse, test_rmse, train_mae, test_mae, train_r2, train_r2"
   ]
  },
  {
   "cell_type": "code",
   "execution_count": 22,
   "metadata": {},
   "outputs": [],
   "source": [
    "x = pd.DataFrame(df.dtypes).reset_index()\n",
    "for k,r in x.iterrows():\n",
    "    if r[0] == 'float64':\n",
    "        print(r['index'])"
   ]
  },
  {
   "cell_type": "markdown",
   "metadata": {},
   "source": [
    "## Train test split"
   ]
  },
  {
   "cell_type": "code",
   "execution_count": 23,
   "metadata": {},
   "outputs": [],
   "source": [
    "features = list(df.select_dtypes(include=np.number).columns)\n",
    "features.remove(TARGET)\n",
    "X = df[features]\n",
    "y = df[TARGET]"
   ]
  },
  {
   "cell_type": "code",
   "execution_count": 24,
   "metadata": {},
   "outputs": [
    {
     "name": "stderr",
     "output_type": "stream",
     "text": [
      "<ipython-input-24-7030cb5f2614>:2: SettingWithCopyWarning: \n",
      "A value is trying to be set on a copy of a slice from a DataFrame.\n",
      "Try using .loc[row_indexer,col_indexer] = value instead\n",
      "\n",
      "See the caveats in the documentation: https://pandas.pydata.org/pandas-docs/stable/user_guide/indexing.html#returning-a-view-versus-a-copy\n",
      "  X[col] = X[col].astype('float32')\n"
     ]
    }
   ],
   "source": [
    "for col in X.columns:\n",
    "    X[col] = X[col].astype('float32')"
   ]
  },
  {
   "cell_type": "code",
   "execution_count": 25,
   "metadata": {},
   "outputs": [],
   "source": [
    "X_train, X_test, y_train, y_test = train_test_split(X, y, test_size=0.2, random_state=42)"
   ]
  },
  {
   "cell_type": "markdown",
   "metadata": {},
   "source": [
    "## Model selection"
   ]
  },
  {
   "cell_type": "code",
   "execution_count": 26,
   "metadata": {},
   "outputs": [
    {
     "name": "stdout",
     "output_type": "stream",
     "text": [
      " --- TRAIN --- \n",
      "     - RMSE:  11.605813366641813\n",
      "     - MAE:  8.222267272028239\n",
      "     - R2:  0.7714671248684782\n",
      " --- TEST --- \n",
      "     - RMSE:  11.778888121344524\n",
      "     - MAE:  8.30350675649742\n",
      "     - R2:  0.7641907744394252\n",
      "0.1959684689839681\n"
     ]
    }
   ],
   "source": [
    "# Decision Tree\n",
    "st = time.time()\n",
    "dt = DecisionTreeRegressor(max_depth=10, criterion='squared_error')\n",
    "dt.fit(X_train, y_train)\n",
    "\n",
    "x = model_metrics(X_train, y_train, X_test, y_test, dt)\n",
    "et = time.time()\n",
    "print((et - st)/60)"
   ]
  },
  {
   "cell_type": "code",
   "execution_count": 27,
   "metadata": {},
   "outputs": [
    {
     "data": {
      "text/html": [
       "<div>\n",
       "<style scoped>\n",
       "    .dataframe tbody tr th:only-of-type {\n",
       "        vertical-align: middle;\n",
       "    }\n",
       "\n",
       "    .dataframe tbody tr th {\n",
       "        vertical-align: top;\n",
       "    }\n",
       "\n",
       "    .dataframe thead th {\n",
       "        text-align: right;\n",
       "    }\n",
       "</style>\n",
       "<table border=\"1\" class=\"dataframe\">\n",
       "  <thead>\n",
       "    <tr style=\"text-align: right;\">\n",
       "      <th></th>\n",
       "      <th>columns</th>\n",
       "      <th>feature_importance</th>\n",
       "    </tr>\n",
       "  </thead>\n",
       "  <tbody>\n",
       "    <tr>\n",
       "      <th>8</th>\n",
       "      <td>DEP_DELAY</td>\n",
       "      <td>0.961455</td>\n",
       "    </tr>\n",
       "    <tr>\n",
       "      <th>50</th>\n",
       "      <td>ARR_DELAY_ORIGIN_year_week_mean</td>\n",
       "      <td>0.023734</td>\n",
       "    </tr>\n",
       "    <tr>\n",
       "      <th>9</th>\n",
       "      <td>ARR_TIME</td>\n",
       "      <td>0.003077</td>\n",
       "    </tr>\n",
       "    <tr>\n",
       "      <th>47</th>\n",
       "      <td>ARR_DELAY_OP_CARRIER_AIRLINE_ID_month_SCH_ARR_...</td>\n",
       "      <td>0.002247</td>\n",
       "    </tr>\n",
       "    <tr>\n",
       "      <th>7</th>\n",
       "      <td>DEP_TIME</td>\n",
       "      <td>0.002231</td>\n",
       "    </tr>\n",
       "    <tr>\n",
       "      <th>21</th>\n",
       "      <td>flight_distance</td>\n",
       "      <td>0.001555</td>\n",
       "    </tr>\n",
       "    <tr>\n",
       "      <th>49</th>\n",
       "      <td>ARR_DELAY_OP_CARRIER_AIRLINE_ID_year_week_mean</td>\n",
       "      <td>0.000693</td>\n",
       "    </tr>\n",
       "    <tr>\n",
       "      <th>18</th>\n",
       "      <td>lon_ORIGIN</td>\n",
       "      <td>0.000679</td>\n",
       "    </tr>\n",
       "    <tr>\n",
       "      <th>48</th>\n",
       "      <td>ARR_DELAY_OP_CARRIER_AIRLINE_ID_month_UPD_ARR_...</td>\n",
       "      <td>0.000661</td>\n",
       "    </tr>\n",
       "    <tr>\n",
       "      <th>0</th>\n",
       "      <td>OP_CARRIER_AIRLINE_ID</td>\n",
       "      <td>0.000387</td>\n",
       "    </tr>\n",
       "    <tr>\n",
       "      <th>17</th>\n",
       "      <td>lat_ORIGIN</td>\n",
       "      <td>0.000377</td>\n",
       "    </tr>\n",
       "    <tr>\n",
       "      <th>40</th>\n",
       "      <td>airport_sum_ops</td>\n",
       "      <td>0.000369</td>\n",
       "    </tr>\n",
       "    <tr>\n",
       "      <th>32</th>\n",
       "      <td>Wind Speed_Avg</td>\n",
       "      <td>0.000287</td>\n",
       "    </tr>\n",
       "    <tr>\n",
       "      <th>23</th>\n",
       "      <td>Temperature_Avg</td>\n",
       "      <td>0.000224</td>\n",
       "    </tr>\n",
       "    <tr>\n",
       "      <th>45</th>\n",
       "      <td>ARR_DELAY_OP_CARRIER_AIRLINE_ID_ORIGIN_mean</td>\n",
       "      <td>0.000172</td>\n",
       "    </tr>\n",
       "  </tbody>\n",
       "</table>\n",
       "</div>"
      ],
      "text/plain": [
       "                                              columns  feature_importance\n",
       "8                                           DEP_DELAY            0.961455\n",
       "50                    ARR_DELAY_ORIGIN_year_week_mean            0.023734\n",
       "9                                            ARR_TIME            0.003077\n",
       "47  ARR_DELAY_OP_CARRIER_AIRLINE_ID_month_SCH_ARR_...            0.002247\n",
       "7                                            DEP_TIME            0.002231\n",
       "21                                    flight_distance            0.001555\n",
       "49     ARR_DELAY_OP_CARRIER_AIRLINE_ID_year_week_mean            0.000693\n",
       "18                                         lon_ORIGIN            0.000679\n",
       "48  ARR_DELAY_OP_CARRIER_AIRLINE_ID_month_UPD_ARR_...            0.000661\n",
       "0                               OP_CARRIER_AIRLINE_ID            0.000387\n",
       "17                                         lat_ORIGIN            0.000377\n",
       "40                                    airport_sum_ops            0.000369\n",
       "32                                     Wind Speed_Avg            0.000287\n",
       "23                                    Temperature_Avg            0.000224\n",
       "45        ARR_DELAY_OP_CARRIER_AIRLINE_ID_ORIGIN_mean            0.000172"
      ]
     },
     "execution_count": 27,
     "metadata": {},
     "output_type": "execute_result"
    }
   ],
   "source": [
    "pd.DataFrame({'columns': X_train.columns,'feature_importance':dt.feature_importances_}).sort_values('feature_importance',ascending=False).head(15)"
   ]
  },
  {
   "cell_type": "code",
   "execution_count": 28,
   "metadata": {},
   "outputs": [
    {
     "name": "stdout",
     "output_type": "stream",
     "text": [
      " --- TRAIN --- \n",
      "     - RMSE:  11.44994678569133\n",
      "     - MAE:  8.10866030902467\n",
      "     - R2:  0.777564318301063\n",
      " --- TEST --- \n",
      "     - RMSE:  11.592444322186738\n",
      "     - MAE:  8.170478166654235\n",
      "     - R2:  0.7715967728658866\n",
      "7.002809898058573\n"
     ]
    }
   ],
   "source": [
    "# Random Forest\n",
    "st = time.time()\n",
    "rf = RandomForestRegressor(n_estimators = 50, max_depth=10, criterion='squared_error')\n",
    "rf.fit(X_train, y_train)\n",
    "\n",
    "x = model_metrics(X_train, y_train, X_test, y_test, rf)\n",
    "et = time.time()\n",
    "print((et - st)/60)"
   ]
  },
  {
   "cell_type": "code",
   "execution_count": 29,
   "metadata": {},
   "outputs": [
    {
     "data": {
      "text/html": [
       "<div>\n",
       "<style scoped>\n",
       "    .dataframe tbody tr th:only-of-type {\n",
       "        vertical-align: middle;\n",
       "    }\n",
       "\n",
       "    .dataframe tbody tr th {\n",
       "        vertical-align: top;\n",
       "    }\n",
       "\n",
       "    .dataframe thead th {\n",
       "        text-align: right;\n",
       "    }\n",
       "</style>\n",
       "<table border=\"1\" class=\"dataframe\">\n",
       "  <thead>\n",
       "    <tr style=\"text-align: right;\">\n",
       "      <th></th>\n",
       "      <th>columns</th>\n",
       "      <th>feature_importance</th>\n",
       "    </tr>\n",
       "  </thead>\n",
       "  <tbody>\n",
       "    <tr>\n",
       "      <th>8</th>\n",
       "      <td>DEP_DELAY</td>\n",
       "      <td>0.957911</td>\n",
       "    </tr>\n",
       "    <tr>\n",
       "      <th>50</th>\n",
       "      <td>ARR_DELAY_ORIGIN_year_week_mean</td>\n",
       "      <td>0.023760</td>\n",
       "    </tr>\n",
       "    <tr>\n",
       "      <th>9</th>\n",
       "      <td>ARR_TIME</td>\n",
       "      <td>0.003565</td>\n",
       "    </tr>\n",
       "    <tr>\n",
       "      <th>47</th>\n",
       "      <td>ARR_DELAY_OP_CARRIER_AIRLINE_ID_month_SCH_ARR_...</td>\n",
       "      <td>0.002556</td>\n",
       "    </tr>\n",
       "    <tr>\n",
       "      <th>7</th>\n",
       "      <td>DEP_TIME</td>\n",
       "      <td>0.002379</td>\n",
       "    </tr>\n",
       "    <tr>\n",
       "      <th>21</th>\n",
       "      <td>flight_distance</td>\n",
       "      <td>0.001489</td>\n",
       "    </tr>\n",
       "    <tr>\n",
       "      <th>49</th>\n",
       "      <td>ARR_DELAY_OP_CARRIER_AIRLINE_ID_year_week_mean</td>\n",
       "      <td>0.000972</td>\n",
       "    </tr>\n",
       "    <tr>\n",
       "      <th>18</th>\n",
       "      <td>lon_ORIGIN</td>\n",
       "      <td>0.000761</td>\n",
       "    </tr>\n",
       "    <tr>\n",
       "      <th>48</th>\n",
       "      <td>ARR_DELAY_OP_CARRIER_AIRLINE_ID_month_UPD_ARR_...</td>\n",
       "      <td>0.000708</td>\n",
       "    </tr>\n",
       "    <tr>\n",
       "      <th>40</th>\n",
       "      <td>airport_sum_ops</td>\n",
       "      <td>0.000653</td>\n",
       "    </tr>\n",
       "    <tr>\n",
       "      <th>17</th>\n",
       "      <td>lat_ORIGIN</td>\n",
       "      <td>0.000486</td>\n",
       "    </tr>\n",
       "    <tr>\n",
       "      <th>23</th>\n",
       "      <td>Temperature_Avg</td>\n",
       "      <td>0.000397</td>\n",
       "    </tr>\n",
       "    <tr>\n",
       "      <th>0</th>\n",
       "      <td>OP_CARRIER_AIRLINE_ID</td>\n",
       "      <td>0.000339</td>\n",
       "    </tr>\n",
       "    <tr>\n",
       "      <th>32</th>\n",
       "      <td>Wind Speed_Avg</td>\n",
       "      <td>0.000299</td>\n",
       "    </tr>\n",
       "    <tr>\n",
       "      <th>46</th>\n",
       "      <td>ARR_DELAY_OP_CARRIER_AIRLINE_ID_ORIGIN_weekday...</td>\n",
       "      <td>0.000285</td>\n",
       "    </tr>\n",
       "  </tbody>\n",
       "</table>\n",
       "</div>"
      ],
      "text/plain": [
       "                                              columns  feature_importance\n",
       "8                                           DEP_DELAY            0.957911\n",
       "50                    ARR_DELAY_ORIGIN_year_week_mean            0.023760\n",
       "9                                            ARR_TIME            0.003565\n",
       "47  ARR_DELAY_OP_CARRIER_AIRLINE_ID_month_SCH_ARR_...            0.002556\n",
       "7                                            DEP_TIME            0.002379\n",
       "21                                    flight_distance            0.001489\n",
       "49     ARR_DELAY_OP_CARRIER_AIRLINE_ID_year_week_mean            0.000972\n",
       "18                                         lon_ORIGIN            0.000761\n",
       "48  ARR_DELAY_OP_CARRIER_AIRLINE_ID_month_UPD_ARR_...            0.000708\n",
       "40                                    airport_sum_ops            0.000653\n",
       "17                                         lat_ORIGIN            0.000486\n",
       "23                                    Temperature_Avg            0.000397\n",
       "0                               OP_CARRIER_AIRLINE_ID            0.000339\n",
       "32                                     Wind Speed_Avg            0.000299\n",
       "46  ARR_DELAY_OP_CARRIER_AIRLINE_ID_ORIGIN_weekday...            0.000285"
      ]
     },
     "execution_count": 29,
     "metadata": {},
     "output_type": "execute_result"
    }
   ],
   "source": [
    "pd.DataFrame({'columns': X_train.columns,'feature_importance':rf.feature_importances_}).sort_values('feature_importance',ascending=False).head(15)"
   ]
  },
  {
   "cell_type": "code",
   "execution_count": 31,
   "metadata": {},
   "outputs": [
    {
     "name": "stdout",
     "output_type": "stream",
     "text": [
      " --- TRAIN --- \n",
      "     - RMSE:  7.372849736350132\n",
      "     - MAE:  5.39291102701333\n",
      "     - R2:  0.9077708334112301\n",
      " --- TEST --- \n",
      "     - RMSE:  7.923927345057668\n",
      "     - MAE:  5.718421231430888\n",
      "     - R2:  0.8932831080940937\n",
      "96.11595522960027\n"
     ]
    }
   ],
   "source": [
    "# Gradient Boosting\n",
    "st = time.time()\n",
    "gb = GradientBoostingRegressor(max_depth=10, criterion='squared_error', min_samples_leaf=30)\n",
    "gb.fit(X_train, y_train)\n",
    "\n",
    "x = model_metrics(X_train, y_train, X_test, y_test, gb)\n",
    "et = time.time()\n",
    "print((et - st)/60)"
   ]
  },
  {
   "cell_type": "code",
   "execution_count": 32,
   "metadata": {},
   "outputs": [
    {
     "data": {
      "text/html": [
       "<div>\n",
       "<style scoped>\n",
       "    .dataframe tbody tr th:only-of-type {\n",
       "        vertical-align: middle;\n",
       "    }\n",
       "\n",
       "    .dataframe tbody tr th {\n",
       "        vertical-align: top;\n",
       "    }\n",
       "\n",
       "    .dataframe thead th {\n",
       "        text-align: right;\n",
       "    }\n",
       "</style>\n",
       "<table border=\"1\" class=\"dataframe\">\n",
       "  <thead>\n",
       "    <tr style=\"text-align: right;\">\n",
       "      <th></th>\n",
       "      <th>columns</th>\n",
       "      <th>feature_importance</th>\n",
       "    </tr>\n",
       "  </thead>\n",
       "  <tbody>\n",
       "    <tr>\n",
       "      <th>8</th>\n",
       "      <td>DEP_DELAY</td>\n",
       "      <td>0.818510</td>\n",
       "    </tr>\n",
       "    <tr>\n",
       "      <th>9</th>\n",
       "      <td>ARR_TIME</td>\n",
       "      <td>0.047365</td>\n",
       "    </tr>\n",
       "    <tr>\n",
       "      <th>7</th>\n",
       "      <td>DEP_TIME</td>\n",
       "      <td>0.038617</td>\n",
       "    </tr>\n",
       "    <tr>\n",
       "      <th>50</th>\n",
       "      <td>ARR_DELAY_ORIGIN_year_week_mean</td>\n",
       "      <td>0.021518</td>\n",
       "    </tr>\n",
       "    <tr>\n",
       "      <th>18</th>\n",
       "      <td>lon_ORIGIN</td>\n",
       "      <td>0.017625</td>\n",
       "    </tr>\n",
       "    <tr>\n",
       "      <th>17</th>\n",
       "      <td>lat_ORIGIN</td>\n",
       "      <td>0.006156</td>\n",
       "    </tr>\n",
       "    <tr>\n",
       "      <th>21</th>\n",
       "      <td>flight_distance</td>\n",
       "      <td>0.005768</td>\n",
       "    </tr>\n",
       "    <tr>\n",
       "      <th>47</th>\n",
       "      <td>ARR_DELAY_OP_CARRIER_AIRLINE_ID_month_SCH_ARR_...</td>\n",
       "      <td>0.004713</td>\n",
       "    </tr>\n",
       "    <tr>\n",
       "      <th>40</th>\n",
       "      <td>airport_sum_ops</td>\n",
       "      <td>0.003382</td>\n",
       "    </tr>\n",
       "    <tr>\n",
       "      <th>48</th>\n",
       "      <td>ARR_DELAY_OP_CARRIER_AIRLINE_ID_month_UPD_ARR_...</td>\n",
       "      <td>0.002766</td>\n",
       "    </tr>\n",
       "    <tr>\n",
       "      <th>49</th>\n",
       "      <td>ARR_DELAY_OP_CARRIER_AIRLINE_ID_year_week_mean</td>\n",
       "      <td>0.002425</td>\n",
       "    </tr>\n",
       "    <tr>\n",
       "      <th>23</th>\n",
       "      <td>Temperature_Avg</td>\n",
       "      <td>0.002029</td>\n",
       "    </tr>\n",
       "    <tr>\n",
       "      <th>2</th>\n",
       "      <td>ORIGIN_AIRPORT_ID</td>\n",
       "      <td>0.001699</td>\n",
       "    </tr>\n",
       "    <tr>\n",
       "      <th>12</th>\n",
       "      <td>month</td>\n",
       "      <td>0.001639</td>\n",
       "    </tr>\n",
       "    <tr>\n",
       "      <th>22</th>\n",
       "      <td>Temperature_Max</td>\n",
       "      <td>0.001594</td>\n",
       "    </tr>\n",
       "  </tbody>\n",
       "</table>\n",
       "</div>"
      ],
      "text/plain": [
       "                                              columns  feature_importance\n",
       "8                                           DEP_DELAY            0.818510\n",
       "9                                            ARR_TIME            0.047365\n",
       "7                                            DEP_TIME            0.038617\n",
       "50                    ARR_DELAY_ORIGIN_year_week_mean            0.021518\n",
       "18                                         lon_ORIGIN            0.017625\n",
       "17                                         lat_ORIGIN            0.006156\n",
       "21                                    flight_distance            0.005768\n",
       "47  ARR_DELAY_OP_CARRIER_AIRLINE_ID_month_SCH_ARR_...            0.004713\n",
       "40                                    airport_sum_ops            0.003382\n",
       "48  ARR_DELAY_OP_CARRIER_AIRLINE_ID_month_UPD_ARR_...            0.002766\n",
       "49     ARR_DELAY_OP_CARRIER_AIRLINE_ID_year_week_mean            0.002425\n",
       "23                                    Temperature_Avg            0.002029\n",
       "2                                   ORIGIN_AIRPORT_ID            0.001699\n",
       "12                                              month            0.001639\n",
       "22                                    Temperature_Max            0.001594"
      ]
     },
     "execution_count": 32,
     "metadata": {},
     "output_type": "execute_result"
    }
   ],
   "source": [
    "pd.DataFrame({'columns': X_train.columns,'feature_importance':gb.feature_importances_}).sort_values('feature_importance',ascending=False).head(15)"
   ]
  },
  {
   "cell_type": "code",
   "execution_count": null,
   "metadata": {},
   "outputs": [],
   "source": [
    "# Lightgbm\n",
    "st = time.time()\n",
    "reg = lgbm.LGBMRegressor(n_estimators = 250, objective='rmse')\n",
    "reg.fit(X_train, y_train)\n",
    "\n",
    "x = model_metrics(X_train, y_train, X_test, y_test, reg)\n",
    "et = time.time()\n",
    "print((et - st)/60)"
   ]
  },
  {
   "cell_type": "markdown",
   "metadata": {},
   "source": [
    "### Hyperparameter tunning"
   ]
  },
  {
   "cell_type": "code",
   "execution_count": null,
   "metadata": {},
   "outputs": [],
   "source": [
    "mdl = lgbm.LGBMRegressor(boosting_type= 'gbdt', \n",
    "        n_jobs = 5, \n",
    "        silent = True)\n",
    "\n",
    "gridParams = {\n",
    "    'n_estimators': [100,150,200,250,300],\n",
    "    'num_leaves': [6,12,18], # large num_leaves helps improve accuracy but might lead to over-fitting\n",
    "    'objective' : ['regression'],\n",
    "    'metric' : ['rmse'],\n",
    "    'random_state' : [42],\n",
    "    }\n",
    "\n",
    "#grid = GridSearchCV(mdl, gridParams, verbose=1, cv=5, n_jobs=-1)\n",
    "grid = RandomizedSearchCV(mdl, gridParams, verbose=1, cv=5, n_jobs=-1, n_iter=20, random_state=42)\n",
    "# Run the grid\n",
    "grid.fit(X_train, y_train)\n",
    "\n",
    "# Print the best parameters found\n",
    "print(grid.best_params_)\n",
    "print(grid.best_score_)"
   ]
  },
  {
   "cell_type": "code",
   "execution_count": null,
   "metadata": {},
   "outputs": [],
   "source": [
    "model = grid.best_estimator_\n",
    "x = model_metrics(X_train, y_train, X_test, y_test, model)"
   ]
  },
  {
   "cell_type": "code",
   "execution_count": null,
   "metadata": {},
   "outputs": [],
   "source": [
    "pd.DataFrame({'columns': X_train.columns,'feature_importance':model.feature_importances_}).sort_values('feature_importance',ascending=False).head(25)"
   ]
  },
  {
   "cell_type": "markdown",
   "metadata": {},
   "source": [
    "## Evaluation"
   ]
  },
  {
   "cell_type": "code",
   "execution_count": null,
   "metadata": {},
   "outputs": [],
   "source": [
    "X_train_ = X_train.copy(deep=True)\n",
    "X_train_['ARR_DELAY_pred'] = model.predict(X_train)\n",
    "X_train_['ARR_DELAY_error'] = X_train_['ARR_DELAY'] - X_train_['ARR_DELAY_pred']"
   ]
  },
  {
   "cell_type": "code",
   "execution_count": null,
   "metadata": {},
   "outputs": [],
   "source": [
    "X_train_[['DEP_DELAY','ARR_DELAY','ARR_DELAY_pred']].sort_values('ARR_DELAY', ascending=False).head(30)"
   ]
  },
  {
   "cell_type": "code",
   "execution_count": null,
   "metadata": {},
   "outputs": [],
   "source": [
    "X_train_[['DEP_DELAY','ARR_DELAY','ARR_DELAY_pred']].sort_values('ARR_DELAY').head(20)"
   ]
  },
  {
   "cell_type": "code",
   "execution_count": null,
   "metadata": {},
   "outputs": [],
   "source": [
    "X_train_[['DEP_DELAY','ARR_DELAY','ARR_DELAY_pred']].sort_values('ARR_DELAY_error', ascending=False).head(20)"
   ]
  },
  {
   "cell_type": "code",
   "execution_count": null,
   "metadata": {},
   "outputs": [],
   "source": [
    "X_train_[['DEP_DELAY','ARR_DELAY','ARR_DELAY_pred']].head(30)"
   ]
  },
  {
   "cell_type": "code",
   "execution_count": null,
   "metadata": {},
   "outputs": [],
   "source": [
    "perc =[0.05, .10, .25, 0.5, 0.75, .90, 0.95]\n",
    "X_train_['ARR_DELAY_error'].describe(percentiles = perc)"
   ]
  },
  {
   "cell_type": "code",
   "execution_count": null,
   "metadata": {},
   "outputs": [],
   "source": [
    "sns.set(style='white', rc={\"grid.linewidth\": 0.1})\n",
    "plt.figure(figsize=(10,4))\n",
    "\n",
    "ax = sns.histplot(data=df, x='ARR_DELAY_error', bins=100)\n",
    "ax.axes.set_title(\"Histogram of prediction error\",fontsize=20)\n",
    "ax.set_xlabel(\"Error (Prediction - Actual) [min]\",fontsize=16)\n",
    "ax.set_ylabel(\"Count\",fontsize=16)\n",
    "plt.savefig('ARR_DELAY_error.png')\n",
    "plt.show()"
   ]
  }
 ],
 "metadata": {
  "interpreter": {
   "hash": "a6e71bb2feff93c4eeeba69888134cc7eeeee100163e615676f04bff10d6e703"
  },
  "kernelspec": {
   "display_name": "Python 3.8.5 64-bit ('base': conda)",
   "language": "python",
   "name": "python3"
  },
  "language_info": {
   "codemirror_mode": {
    "name": "ipython",
    "version": 3
   },
   "file_extension": ".py",
   "mimetype": "text/x-python",
   "name": "python",
   "nbconvert_exporter": "python",
   "pygments_lexer": "ipython3",
   "version": "3.8.5"
  },
  "orig_nbformat": 4
 },
 "nbformat": 4,
 "nbformat_minor": 2
}
