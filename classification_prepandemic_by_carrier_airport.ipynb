{
 "cells": [
  {
   "cell_type": "code",
   "execution_count": 1,
   "metadata": {},
   "outputs": [],
   "source": [
    "import pandas as pd\n",
    "import numpy as np\n",
    "import time\n",
    "import os\n",
    "from os import listdir\n",
    "from os.path import isfile, join, basename\n",
    "\n",
    "import matplotlib.pyplot as plt\n",
    "import seaborn as sns \n",
    "\n",
    "import math\n",
    "import sys\n",
    "\n",
    "from lag_features import *\n",
    "from other_functions import *\n",
    "\n",
    "import datetime\n",
    "from sklearn.preprocessing import LabelEncoder"
   ]
  },
  {
   "cell_type": "code",
   "execution_count": 2,
   "metadata": {},
   "outputs": [],
   "source": [
    "DIR = '/Users/carlosperezricardo/Desktop/TFM'\n",
    "\n",
    "#[10397, 13930, 11298, 11292, 12892]\n",
    "AIRPORT = 10397\n",
    "CARRIER = 19393\n",
    "years_to_load = ['2016','2017','2018','2019']"
   ]
  },
  {
   "cell_type": "code",
   "execution_count": 3,
   "metadata": {},
   "outputs": [],
   "source": [
    "folder = os.path.join(DIR, 'datasets')\n",
    "files = [f for f in listdir(folder) if isfile(join(folder, f))]\n",
    "files = sorted(files)"
   ]
  },
  {
   "cell_type": "code",
   "execution_count": 4,
   "metadata": {},
   "outputs": [
    {
     "name": "stderr",
     "output_type": "stream",
     "text": [
      "/Users/carlosperezricardo/opt/anaconda3/lib/python3.8/site-packages/IPython/core/interactiveshell.py:3146: DtypeWarning: Columns (23) have mixed types.Specify dtype option on import or set low_memory=False.\n",
      "  has_raised = await self.run_ast_nodes(code_ast.body, cell_name,\n"
     ]
    }
   ],
   "source": [
    "df = pd.DataFrame()\n",
    "for file in files:\n",
    "    loading = []\n",
    "    if '.zip' in file:\n",
    "        for year in years_to_load:\n",
    "            loading.append(year in file)\n",
    "        output = any(loading)\n",
    "        if output:\n",
    "            add_df = pd.read_csv(os.path.join(DIR,'datasets',file), parse_dates=['FL_DATE'])\n",
    "            add_df = add_df[(add_df.DEST_AIRPORT_ID == AIRPORT) & (add_df.OP_CARRIER_AIRLINE_ID == CARRIER)]\n",
    "            df = pd.concat([df, add_df], axis=0)\n",
    "df.reset_index(drop=True, inplace=True)"
   ]
  },
  {
   "cell_type": "code",
   "execution_count": 5,
   "metadata": {},
   "outputs": [
    {
     "data": {
      "text/html": [
       "<div>\n",
       "<style scoped>\n",
       "    .dataframe tbody tr th:only-of-type {\n",
       "        vertical-align: middle;\n",
       "    }\n",
       "\n",
       "    .dataframe tbody tr th {\n",
       "        vertical-align: top;\n",
       "    }\n",
       "\n",
       "    .dataframe thead th {\n",
       "        text-align: right;\n",
       "    }\n",
       "</style>\n",
       "<table border=\"1\" class=\"dataframe\">\n",
       "  <thead>\n",
       "    <tr style=\"text-align: right;\">\n",
       "      <th></th>\n",
       "      <th>FL_DATE</th>\n",
       "      <th>OP_UNIQUE_CARRIER</th>\n",
       "      <th>OP_CARRIER_AIRLINE_ID</th>\n",
       "      <th>OP_CARRIER</th>\n",
       "      <th>TAIL_NUM</th>\n",
       "      <th>OP_CARRIER_FL_NUM</th>\n",
       "      <th>ORIGIN_AIRPORT_ID</th>\n",
       "      <th>ORIGIN_AIRPORT_SEQ_ID</th>\n",
       "      <th>ORIGIN_CITY_MARKET_ID</th>\n",
       "      <th>ORIGIN</th>\n",
       "      <th>...</th>\n",
       "      <th>ARR_TIME</th>\n",
       "      <th>ARR_DELAY</th>\n",
       "      <th>CANCELLED</th>\n",
       "      <th>CANCELLATION_CODE</th>\n",
       "      <th>DIVERTED</th>\n",
       "      <th>CARRIER_DELAY</th>\n",
       "      <th>WEATHER_DELAY</th>\n",
       "      <th>NAS_DELAY</th>\n",
       "      <th>LATE_AIRCRAFT_DELAY</th>\n",
       "      <th>Unnamed: 29</th>\n",
       "    </tr>\n",
       "  </thead>\n",
       "  <tbody>\n",
       "    <tr>\n",
       "      <th>0</th>\n",
       "      <td>2016-01-01</td>\n",
       "      <td>WN</td>\n",
       "      <td>19393</td>\n",
       "      <td>WN</td>\n",
       "      <td>N697SW</td>\n",
       "      <td>2300</td>\n",
       "      <td>14122</td>\n",
       "      <td>1412202</td>\n",
       "      <td>30198</td>\n",
       "      <td>PIT</td>\n",
       "      <td>...</td>\n",
       "      <td>2005.0</td>\n",
       "      <td>-20.0</td>\n",
       "      <td>0.0</td>\n",
       "      <td>NaN</td>\n",
       "      <td>0.0</td>\n",
       "      <td>NaN</td>\n",
       "      <td>NaN</td>\n",
       "      <td>NaN</td>\n",
       "      <td>NaN</td>\n",
       "      <td>NaN</td>\n",
       "    </tr>\n",
       "    <tr>\n",
       "      <th>1</th>\n",
       "      <td>2016-01-01</td>\n",
       "      <td>WN</td>\n",
       "      <td>19393</td>\n",
       "      <td>WN</td>\n",
       "      <td>N295WN</td>\n",
       "      <td>1045</td>\n",
       "      <td>14492</td>\n",
       "      <td>1449202</td>\n",
       "      <td>34492</td>\n",
       "      <td>RDU</td>\n",
       "      <td>...</td>\n",
       "      <td>1300.0</td>\n",
       "      <td>0.0</td>\n",
       "      <td>0.0</td>\n",
       "      <td>NaN</td>\n",
       "      <td>0.0</td>\n",
       "      <td>NaN</td>\n",
       "      <td>NaN</td>\n",
       "      <td>NaN</td>\n",
       "      <td>NaN</td>\n",
       "      <td>NaN</td>\n",
       "    </tr>\n",
       "    <tr>\n",
       "      <th>2</th>\n",
       "      <td>2016-01-01</td>\n",
       "      <td>WN</td>\n",
       "      <td>19393</td>\n",
       "      <td>WN</td>\n",
       "      <td>N410WN</td>\n",
       "      <td>2907</td>\n",
       "      <td>14492</td>\n",
       "      <td>1449202</td>\n",
       "      <td>34492</td>\n",
       "      <td>RDU</td>\n",
       "      <td>...</td>\n",
       "      <td>2035.0</td>\n",
       "      <td>5.0</td>\n",
       "      <td>0.0</td>\n",
       "      <td>NaN</td>\n",
       "      <td>0.0</td>\n",
       "      <td>NaN</td>\n",
       "      <td>NaN</td>\n",
       "      <td>NaN</td>\n",
       "      <td>NaN</td>\n",
       "      <td>NaN</td>\n",
       "    </tr>\n",
       "    <tr>\n",
       "      <th>3</th>\n",
       "      <td>2016-01-01</td>\n",
       "      <td>WN</td>\n",
       "      <td>19393</td>\n",
       "      <td>WN</td>\n",
       "      <td>N7834A</td>\n",
       "      <td>1986</td>\n",
       "      <td>14524</td>\n",
       "      <td>1452401</td>\n",
       "      <td>34524</td>\n",
       "      <td>RIC</td>\n",
       "      <td>...</td>\n",
       "      <td>1242.0</td>\n",
       "      <td>-13.0</td>\n",
       "      <td>0.0</td>\n",
       "      <td>NaN</td>\n",
       "      <td>0.0</td>\n",
       "      <td>NaN</td>\n",
       "      <td>NaN</td>\n",
       "      <td>NaN</td>\n",
       "      <td>NaN</td>\n",
       "      <td>NaN</td>\n",
       "    </tr>\n",
       "    <tr>\n",
       "      <th>4</th>\n",
       "      <td>2016-01-01</td>\n",
       "      <td>WN</td>\n",
       "      <td>19393</td>\n",
       "      <td>WN</td>\n",
       "      <td>N553WN</td>\n",
       "      <td>2169</td>\n",
       "      <td>14524</td>\n",
       "      <td>1452401</td>\n",
       "      <td>34524</td>\n",
       "      <td>RIC</td>\n",
       "      <td>...</td>\n",
       "      <td>1943.0</td>\n",
       "      <td>-2.0</td>\n",
       "      <td>0.0</td>\n",
       "      <td>NaN</td>\n",
       "      <td>0.0</td>\n",
       "      <td>NaN</td>\n",
       "      <td>NaN</td>\n",
       "      <td>NaN</td>\n",
       "      <td>NaN</td>\n",
       "      <td>NaN</td>\n",
       "    </tr>\n",
       "  </tbody>\n",
       "</table>\n",
       "<p>5 rows × 30 columns</p>\n",
       "</div>"
      ],
      "text/plain": [
       "     FL_DATE OP_UNIQUE_CARRIER  OP_CARRIER_AIRLINE_ID OP_CARRIER TAIL_NUM  \\\n",
       "0 2016-01-01                WN                  19393         WN   N697SW   \n",
       "1 2016-01-01                WN                  19393         WN   N295WN   \n",
       "2 2016-01-01                WN                  19393         WN   N410WN   \n",
       "3 2016-01-01                WN                  19393         WN   N7834A   \n",
       "4 2016-01-01                WN                  19393         WN   N553WN   \n",
       "\n",
       "   OP_CARRIER_FL_NUM  ORIGIN_AIRPORT_ID  ORIGIN_AIRPORT_SEQ_ID  \\\n",
       "0               2300              14122                1412202   \n",
       "1               1045              14492                1449202   \n",
       "2               2907              14492                1449202   \n",
       "3               1986              14524                1452401   \n",
       "4               2169              14524                1452401   \n",
       "\n",
       "   ORIGIN_CITY_MARKET_ID ORIGIN  ... ARR_TIME ARR_DELAY  CANCELLED  \\\n",
       "0                  30198    PIT  ...   2005.0     -20.0        0.0   \n",
       "1                  34492    RDU  ...   1300.0       0.0        0.0   \n",
       "2                  34492    RDU  ...   2035.0       5.0        0.0   \n",
       "3                  34524    RIC  ...   1242.0     -13.0        0.0   \n",
       "4                  34524    RIC  ...   1943.0      -2.0        0.0   \n",
       "\n",
       "   CANCELLATION_CODE  DIVERTED CARRIER_DELAY WEATHER_DELAY NAS_DELAY  \\\n",
       "0                NaN       0.0           NaN           NaN       NaN   \n",
       "1                NaN       0.0           NaN           NaN       NaN   \n",
       "2                NaN       0.0           NaN           NaN       NaN   \n",
       "3                NaN       0.0           NaN           NaN       NaN   \n",
       "4                NaN       0.0           NaN           NaN       NaN   \n",
       "\n",
       "   LATE_AIRCRAFT_DELAY  Unnamed: 29  \n",
       "0                  NaN          NaN  \n",
       "1                  NaN          NaN  \n",
       "2                  NaN          NaN  \n",
       "3                  NaN          NaN  \n",
       "4                  NaN          NaN  \n",
       "\n",
       "[5 rows x 30 columns]"
      ]
     },
     "execution_count": 5,
     "metadata": {},
     "output_type": "execute_result"
    }
   ],
   "source": [
    "df.head()"
   ]
  },
  {
   "cell_type": "code",
   "execution_count": 6,
   "metadata": {},
   "outputs": [
    {
     "data": {
      "text/plain": [
       "ATL    163301\n",
       "Name: DEST, dtype: int64"
      ]
     },
     "execution_count": 6,
     "metadata": {},
     "output_type": "execute_result"
    }
   ],
   "source": [
    "df['DEST'].value_counts()"
   ]
  },
  {
   "cell_type": "code",
   "execution_count": 7,
   "metadata": {},
   "outputs": [],
   "source": [
    "ini_date = datetime.datetime(2016, 1, 1)\n",
    "\n",
    "train_ini_date = datetime.datetime(2018, 1, 1)\n",
    "train_fin_date = datetime.datetime(2019, 9, 1)\n",
    "\n",
    "test_ini_date = datetime.datetime(2019, 9, 1)\n",
    "test_fin_date = datetime.datetime(2019, 9, 30)"
   ]
  },
  {
   "cell_type": "code",
   "execution_count": 8,
   "metadata": {},
   "outputs": [],
   "source": [
    "df = df[(df.FL_DATE > ini_date) & (df.FL_DATE <= test_fin_date)]"
   ]
  },
  {
   "cell_type": "code",
   "execution_count": 9,
   "metadata": {},
   "outputs": [
    {
     "data": {
      "text/plain": [
       "(153903, 30)"
      ]
     },
     "execution_count": 9,
     "metadata": {},
     "output_type": "execute_result"
    }
   ],
   "source": [
    "df.shape"
   ]
  },
  {
   "cell_type": "code",
   "execution_count": 10,
   "metadata": {},
   "outputs": [],
   "source": [
    "# Feature Generation \n",
    "df = date_features(df, 'FL_DATE')"
   ]
  },
  {
   "cell_type": "code",
   "execution_count": 11,
   "metadata": {},
   "outputs": [],
   "source": [
    "# Add flight distance in km\n",
    "def flight_distance(lat1, lon1, lat2, lon2):\n",
    "    R = 6371\n",
    "    phi1 = lat1 * math.pi/180\n",
    "    phi2 = lat2 * math.pi/180\n",
    "    delta_phi = (lat2-lat1) * math.pi/180\n",
    "    delta_lambda = (lon2-lon1) * math.pi/180\n",
    "    \n",
    "    a = np.sin(delta_phi/2) * np.sin(delta_lambda/2) + np.cos(phi1) * np.cos(phi2) * np.sin(delta_lambda/2) * np.sin(delta_lambda/2);\n",
    "    c = 2 * np.arctan2(np.sqrt(a), np.sqrt(1-a))\n",
    "\n",
    "    return R * c # in kilometres"
   ]
  },
  {
   "cell_type": "code",
   "execution_count": 12,
   "metadata": {},
   "outputs": [],
   "source": [
    "airports_df = pd.read_csv(os.path.join('/Users/carlosperezricardo/Desktop/TFM/airlines_airports', 'L_AIRPORT_ID.csv'))\n",
    "airports_df = airports_df[['Code','Description','City_State','City','State_Country','lat','lon']]"
   ]
  },
  {
   "cell_type": "code",
   "execution_count": 13,
   "metadata": {},
   "outputs": [],
   "source": [
    "df = pd.merge(df, airports_df[['Code','lat','lon']], left_on='ORIGIN_AIRPORT_ID', right_on='Code')\n",
    "df.rename({'lat':'lat_ORIGIN','lon':'lon_ORIGIN'}, axis=1, inplace=True)\n",
    "\n",
    "df = pd.merge(df, airports_df[['Code','lat','lon']], left_on='DEST_AIRPORT_ID', right_on='Code')\n",
    "df.rename({'lat':'lat_DEST','lon':'lon_DEST'}, axis=1, inplace=True)"
   ]
  },
  {
   "cell_type": "code",
   "execution_count": 14,
   "metadata": {},
   "outputs": [
    {
     "name": "stderr",
     "output_type": "stream",
     "text": [
      "/Users/carlosperezricardo/opt/anaconda3/lib/python3.8/site-packages/pandas/core/series.py:726: RuntimeWarning: invalid value encountered in sqrt\n",
      "  result = getattr(ufunc, method)(*inputs, **kwargs)\n"
     ]
    }
   ],
   "source": [
    "df['flight_distance'] = flight_distance(df['lat_ORIGIN'], df['lon_ORIGIN'], df['lat_DEST'], df['lon_DEST'])"
   ]
  },
  {
   "cell_type": "code",
   "execution_count": 15,
   "metadata": {},
   "outputs": [],
   "source": [
    "# Add weather\n",
    "WEATHER_DIR = '/Users/carlosperezricardo/Desktop/TFM/weather'\n",
    "weather_df = pd.read_csv(os.path.join(WEATHER_DIR, 'weather.csv'))"
   ]
  },
  {
   "cell_type": "code",
   "execution_count": 16,
   "metadata": {},
   "outputs": [
    {
     "data": {
      "text/plain": [
       "'ATL'"
      ]
     },
     "execution_count": 16,
     "metadata": {},
     "output_type": "execute_result"
    }
   ],
   "source": [
    "iata_code = list(df['DEST'].unique())[0]\n",
    "iata_code"
   ]
  },
  {
   "cell_type": "code",
   "execution_count": 17,
   "metadata": {},
   "outputs": [],
   "source": [
    "airports_df = pd.read_csv(os.path.join('/Users/carlosperezricardo/Desktop/TFM/airlines_airports', 'airports.csv'))\n",
    "\n",
    "airports_code = pd.read_excel(os.path.join('/Users/carlosperezricardo/Desktop/TFM/airlines_airports', 'US_airports.xlsx'), sheet_name='Airports')\n",
    "airports_code.columns = airports_code.iloc[0]\n",
    "airports_code = airports_code.iloc[1:]\n",
    "    \n",
    "states = pd.read_excel(os.path.join('/Users/carlosperezricardo/Desktop/TFM/airlines_airports', 'US_airports.xlsx'), sheet_name='States')\n",
    "states.columns = ['state_name','state_acronym']\n",
    "\n",
    "airports = pd.merge(airports_code, states, left_on='City', right_on='state_name', how='left')\n",
    "\n",
    "airports[['state_name','state_acronym']] = airports[['state_name','state_acronym']].ffill(axis = 0)\n",
    "airports = airports[~airports['FAA'].isnull()]"
   ]
  },
  {
   "cell_type": "code",
   "execution_count": 18,
   "metadata": {},
   "outputs": [
    {
     "data": {
      "text/plain": [
       "'KATL'"
      ]
     },
     "execution_count": 18,
     "metadata": {},
     "output_type": "execute_result"
    }
   ],
   "source": [
    "icao_code = list(airports[airports.IATA == iata_code]['ICAO'])[0]\n",
    "icao_code"
   ]
  },
  {
   "cell_type": "code",
   "execution_count": 19,
   "metadata": {},
   "outputs": [
    {
     "data": {
      "text/html": [
       "<div>\n",
       "<style scoped>\n",
       "    .dataframe tbody tr th:only-of-type {\n",
       "        vertical-align: middle;\n",
       "    }\n",
       "\n",
       "    .dataframe tbody tr th {\n",
       "        vertical-align: top;\n",
       "    }\n",
       "\n",
       "    .dataframe thead th {\n",
       "        text-align: right;\n",
       "    }\n",
       "</style>\n",
       "<table border=\"1\" class=\"dataframe\">\n",
       "  <thead>\n",
       "    <tr style=\"text-align: right;\">\n",
       "      <th></th>\n",
       "      <th>Unnamed: 0</th>\n",
       "      <th>Day</th>\n",
       "      <th>Temperature_Max</th>\n",
       "      <th>Temperature_Avg</th>\n",
       "      <th>Temperature_Min</th>\n",
       "      <th>Dew Point_Max</th>\n",
       "      <th>Dew Point_Avg</th>\n",
       "      <th>Dew Point_Min</th>\n",
       "      <th>Humidity_Max</th>\n",
       "      <th>Humidity_Avg</th>\n",
       "      <th>Humidity_Min</th>\n",
       "      <th>Wind Speed_Max</th>\n",
       "      <th>Wind Speed_Avg</th>\n",
       "      <th>Wind Speed_Min</th>\n",
       "      <th>Pressure_Max</th>\n",
       "      <th>Pressure_Avg</th>\n",
       "      <th>Pressure_Min</th>\n",
       "      <th>Precipitation</th>\n",
       "      <th>ICAO</th>\n",
       "    </tr>\n",
       "  </thead>\n",
       "  <tbody>\n",
       "    <tr>\n",
       "      <th>85792</th>\n",
       "      <td>85792</td>\n",
       "      <td>2019-01-01</td>\n",
       "      <td>59</td>\n",
       "      <td>53.8</td>\n",
       "      <td>49</td>\n",
       "      <td>53</td>\n",
       "      <td>49.0</td>\n",
       "      <td>44</td>\n",
       "      <td>93</td>\n",
       "      <td>84.3</td>\n",
       "      <td>69</td>\n",
       "      <td>9.0</td>\n",
       "      <td>5.4</td>\n",
       "      <td>0.0</td>\n",
       "      <td>29.1</td>\n",
       "      <td>29.1</td>\n",
       "      <td>28.9</td>\n",
       "      <td>0.00</td>\n",
       "      <td>KATL</td>\n",
       "    </tr>\n",
       "    <tr>\n",
       "      <th>85793</th>\n",
       "      <td>85793</td>\n",
       "      <td>2019-01-02</td>\n",
       "      <td>55</td>\n",
       "      <td>53.1</td>\n",
       "      <td>50</td>\n",
       "      <td>53</td>\n",
       "      <td>50.6</td>\n",
       "      <td>49</td>\n",
       "      <td>96</td>\n",
       "      <td>91.3</td>\n",
       "      <td>86</td>\n",
       "      <td>14.0</td>\n",
       "      <td>4.6</td>\n",
       "      <td>0.0</td>\n",
       "      <td>29.0</td>\n",
       "      <td>28.9</td>\n",
       "      <td>28.9</td>\n",
       "      <td>0.60</td>\n",
       "      <td>KATL</td>\n",
       "    </tr>\n",
       "    <tr>\n",
       "      <th>85794</th>\n",
       "      <td>85794</td>\n",
       "      <td>2019-01-03</td>\n",
       "      <td>66</td>\n",
       "      <td>55.8</td>\n",
       "      <td>45</td>\n",
       "      <td>58</td>\n",
       "      <td>50.7</td>\n",
       "      <td>37</td>\n",
       "      <td>97</td>\n",
       "      <td>83.8</td>\n",
       "      <td>58</td>\n",
       "      <td>25.0</td>\n",
       "      <td>10.9</td>\n",
       "      <td>3.0</td>\n",
       "      <td>28.9</td>\n",
       "      <td>28.7</td>\n",
       "      <td>28.6</td>\n",
       "      <td>1.00</td>\n",
       "      <td>KATL</td>\n",
       "    </tr>\n",
       "    <tr>\n",
       "      <th>85795</th>\n",
       "      <td>85795</td>\n",
       "      <td>2019-01-04</td>\n",
       "      <td>59</td>\n",
       "      <td>49.0</td>\n",
       "      <td>44</td>\n",
       "      <td>38</td>\n",
       "      <td>36.4</td>\n",
       "      <td>34</td>\n",
       "      <td>79</td>\n",
       "      <td>63.3</td>\n",
       "      <td>41</td>\n",
       "      <td>21.0</td>\n",
       "      <td>14.2</td>\n",
       "      <td>7.0</td>\n",
       "      <td>29.0</td>\n",
       "      <td>28.9</td>\n",
       "      <td>28.7</td>\n",
       "      <td>0.56</td>\n",
       "      <td>KATL</td>\n",
       "    </tr>\n",
       "    <tr>\n",
       "      <th>85796</th>\n",
       "      <td>85796</td>\n",
       "      <td>2019-01-05</td>\n",
       "      <td>69</td>\n",
       "      <td>54.5</td>\n",
       "      <td>43</td>\n",
       "      <td>41</td>\n",
       "      <td>38.2</td>\n",
       "      <td>36</td>\n",
       "      <td>80</td>\n",
       "      <td>56.7</td>\n",
       "      <td>33</td>\n",
       "      <td>10.0</td>\n",
       "      <td>6.6</td>\n",
       "      <td>0.0</td>\n",
       "      <td>29.1</td>\n",
       "      <td>29.1</td>\n",
       "      <td>29.0</td>\n",
       "      <td>0.00</td>\n",
       "      <td>KATL</td>\n",
       "    </tr>\n",
       "  </tbody>\n",
       "</table>\n",
       "</div>"
      ],
      "text/plain": [
       "       Unnamed: 0        Day  Temperature_Max  Temperature_Avg  \\\n",
       "85792       85792 2019-01-01               59             53.8   \n",
       "85793       85793 2019-01-02               55             53.1   \n",
       "85794       85794 2019-01-03               66             55.8   \n",
       "85795       85795 2019-01-04               59             49.0   \n",
       "85796       85796 2019-01-05               69             54.5   \n",
       "\n",
       "       Temperature_Min  Dew Point_Max  Dew Point_Avg  Dew Point_Min  \\\n",
       "85792               49             53           49.0             44   \n",
       "85793               50             53           50.6             49   \n",
       "85794               45             58           50.7             37   \n",
       "85795               44             38           36.4             34   \n",
       "85796               43             41           38.2             36   \n",
       "\n",
       "       Humidity_Max  Humidity_Avg  Humidity_Min  Wind Speed_Max  \\\n",
       "85792            93          84.3            69             9.0   \n",
       "85793            96          91.3            86            14.0   \n",
       "85794            97          83.8            58            25.0   \n",
       "85795            79          63.3            41            21.0   \n",
       "85796            80          56.7            33            10.0   \n",
       "\n",
       "       Wind Speed_Avg  Wind Speed_Min  Pressure_Max  Pressure_Avg  \\\n",
       "85792             5.4             0.0          29.1          29.1   \n",
       "85793             4.6             0.0          29.0          28.9   \n",
       "85794            10.9             3.0          28.9          28.7   \n",
       "85795            14.2             7.0          29.0          28.9   \n",
       "85796             6.6             0.0          29.1          29.1   \n",
       "\n",
       "       Pressure_Min  Precipitation  ICAO  \n",
       "85792          28.9           0.00  KATL  \n",
       "85793          28.9           0.60  KATL  \n",
       "85794          28.6           1.00  KATL  \n",
       "85795          28.7           0.56  KATL  \n",
       "85796          29.0           0.00  KATL  "
      ]
     },
     "execution_count": 19,
     "metadata": {},
     "output_type": "execute_result"
    }
   ],
   "source": [
    "weather_df = weather_df[weather_df.ICAO == icao_code]\n",
    "weather_df['Day'] = pd.to_datetime(weather_df['Day'])\n",
    "weather_df.head()"
   ]
  },
  {
   "cell_type": "code",
   "execution_count": 20,
   "metadata": {},
   "outputs": [],
   "source": [
    "df = pd.merge(df, weather_df, left_on='FL_DATE', right_on='Day', how='left')"
   ]
  },
  {
   "cell_type": "code",
   "execution_count": 21,
   "metadata": {},
   "outputs": [
    {
     "data": {
      "text/html": [
       "<div>\n",
       "<style scoped>\n",
       "    .dataframe tbody tr th:only-of-type {\n",
       "        vertical-align: middle;\n",
       "    }\n",
       "\n",
       "    .dataframe tbody tr th {\n",
       "        vertical-align: top;\n",
       "    }\n",
       "\n",
       "    .dataframe thead th {\n",
       "        text-align: right;\n",
       "    }\n",
       "</style>\n",
       "<table border=\"1\" class=\"dataframe\">\n",
       "  <thead>\n",
       "    <tr style=\"text-align: right;\">\n",
       "      <th></th>\n",
       "      <th>FL_DATE</th>\n",
       "      <th>OP_UNIQUE_CARRIER</th>\n",
       "      <th>OP_CARRIER_AIRLINE_ID</th>\n",
       "      <th>OP_CARRIER</th>\n",
       "      <th>TAIL_NUM</th>\n",
       "      <th>OP_CARRIER_FL_NUM</th>\n",
       "      <th>ORIGIN_AIRPORT_ID</th>\n",
       "      <th>ORIGIN_AIRPORT_SEQ_ID</th>\n",
       "      <th>ORIGIN_CITY_MARKET_ID</th>\n",
       "      <th>ORIGIN</th>\n",
       "      <th>...</th>\n",
       "      <th>Humidity_Avg</th>\n",
       "      <th>Humidity_Min</th>\n",
       "      <th>Wind Speed_Max</th>\n",
       "      <th>Wind Speed_Avg</th>\n",
       "      <th>Wind Speed_Min</th>\n",
       "      <th>Pressure_Max</th>\n",
       "      <th>Pressure_Avg</th>\n",
       "      <th>Pressure_Min</th>\n",
       "      <th>Precipitation</th>\n",
       "      <th>ICAO</th>\n",
       "    </tr>\n",
       "  </thead>\n",
       "  <tbody>\n",
       "    <tr>\n",
       "      <th>0</th>\n",
       "      <td>2016-01-02</td>\n",
       "      <td>WN</td>\n",
       "      <td>19393</td>\n",
       "      <td>WN</td>\n",
       "      <td>N624SW</td>\n",
       "      <td>6075</td>\n",
       "      <td>10423</td>\n",
       "      <td>1042302</td>\n",
       "      <td>30423</td>\n",
       "      <td>AUS</td>\n",
       "      <td>...</td>\n",
       "      <td>NaN</td>\n",
       "      <td>NaN</td>\n",
       "      <td>NaN</td>\n",
       "      <td>NaN</td>\n",
       "      <td>NaN</td>\n",
       "      <td>NaN</td>\n",
       "      <td>NaN</td>\n",
       "      <td>NaN</td>\n",
       "      <td>NaN</td>\n",
       "      <td>NaN</td>\n",
       "    </tr>\n",
       "    <tr>\n",
       "      <th>1</th>\n",
       "      <td>2016-01-02</td>\n",
       "      <td>WN</td>\n",
       "      <td>19393</td>\n",
       "      <td>WN</td>\n",
       "      <td>N762SW</td>\n",
       "      <td>6482</td>\n",
       "      <td>10423</td>\n",
       "      <td>1042302</td>\n",
       "      <td>30423</td>\n",
       "      <td>AUS</td>\n",
       "      <td>...</td>\n",
       "      <td>NaN</td>\n",
       "      <td>NaN</td>\n",
       "      <td>NaN</td>\n",
       "      <td>NaN</td>\n",
       "      <td>NaN</td>\n",
       "      <td>NaN</td>\n",
       "      <td>NaN</td>\n",
       "      <td>NaN</td>\n",
       "      <td>NaN</td>\n",
       "      <td>NaN</td>\n",
       "    </tr>\n",
       "    <tr>\n",
       "      <th>2</th>\n",
       "      <td>2016-01-03</td>\n",
       "      <td>WN</td>\n",
       "      <td>19393</td>\n",
       "      <td>WN</td>\n",
       "      <td>N274WN</td>\n",
       "      <td>4005</td>\n",
       "      <td>10423</td>\n",
       "      <td>1042302</td>\n",
       "      <td>30423</td>\n",
       "      <td>AUS</td>\n",
       "      <td>...</td>\n",
       "      <td>NaN</td>\n",
       "      <td>NaN</td>\n",
       "      <td>NaN</td>\n",
       "      <td>NaN</td>\n",
       "      <td>NaN</td>\n",
       "      <td>NaN</td>\n",
       "      <td>NaN</td>\n",
       "      <td>NaN</td>\n",
       "      <td>NaN</td>\n",
       "      <td>NaN</td>\n",
       "    </tr>\n",
       "    <tr>\n",
       "      <th>3</th>\n",
       "      <td>2016-01-03</td>\n",
       "      <td>WN</td>\n",
       "      <td>19393</td>\n",
       "      <td>WN</td>\n",
       "      <td>N422WN</td>\n",
       "      <td>4617</td>\n",
       "      <td>10423</td>\n",
       "      <td>1042302</td>\n",
       "      <td>30423</td>\n",
       "      <td>AUS</td>\n",
       "      <td>...</td>\n",
       "      <td>NaN</td>\n",
       "      <td>NaN</td>\n",
       "      <td>NaN</td>\n",
       "      <td>NaN</td>\n",
       "      <td>NaN</td>\n",
       "      <td>NaN</td>\n",
       "      <td>NaN</td>\n",
       "      <td>NaN</td>\n",
       "      <td>NaN</td>\n",
       "      <td>NaN</td>\n",
       "    </tr>\n",
       "    <tr>\n",
       "      <th>4</th>\n",
       "      <td>2016-01-04</td>\n",
       "      <td>WN</td>\n",
       "      <td>19393</td>\n",
       "      <td>WN</td>\n",
       "      <td>N476WN</td>\n",
       "      <td>472</td>\n",
       "      <td>10423</td>\n",
       "      <td>1042302</td>\n",
       "      <td>30423</td>\n",
       "      <td>AUS</td>\n",
       "      <td>...</td>\n",
       "      <td>NaN</td>\n",
       "      <td>NaN</td>\n",
       "      <td>NaN</td>\n",
       "      <td>NaN</td>\n",
       "      <td>NaN</td>\n",
       "      <td>NaN</td>\n",
       "      <td>NaN</td>\n",
       "      <td>NaN</td>\n",
       "      <td>NaN</td>\n",
       "      <td>NaN</td>\n",
       "    </tr>\n",
       "  </tbody>\n",
       "</table>\n",
       "<p>5 rows × 62 columns</p>\n",
       "</div>"
      ],
      "text/plain": [
       "     FL_DATE OP_UNIQUE_CARRIER  OP_CARRIER_AIRLINE_ID OP_CARRIER TAIL_NUM  \\\n",
       "0 2016-01-02                WN                  19393         WN   N624SW   \n",
       "1 2016-01-02                WN                  19393         WN   N762SW   \n",
       "2 2016-01-03                WN                  19393         WN   N274WN   \n",
       "3 2016-01-03                WN                  19393         WN   N422WN   \n",
       "4 2016-01-04                WN                  19393         WN   N476WN   \n",
       "\n",
       "   OP_CARRIER_FL_NUM  ORIGIN_AIRPORT_ID  ORIGIN_AIRPORT_SEQ_ID  \\\n",
       "0               6075              10423                1042302   \n",
       "1               6482              10423                1042302   \n",
       "2               4005              10423                1042302   \n",
       "3               4617              10423                1042302   \n",
       "4                472              10423                1042302   \n",
       "\n",
       "   ORIGIN_CITY_MARKET_ID ORIGIN  ... Humidity_Avg Humidity_Min  \\\n",
       "0                  30423    AUS  ...          NaN          NaN   \n",
       "1                  30423    AUS  ...          NaN          NaN   \n",
       "2                  30423    AUS  ...          NaN          NaN   \n",
       "3                  30423    AUS  ...          NaN          NaN   \n",
       "4                  30423    AUS  ...          NaN          NaN   \n",
       "\n",
       "   Wind Speed_Max  Wind Speed_Avg  Wind Speed_Min Pressure_Max Pressure_Avg  \\\n",
       "0             NaN             NaN             NaN          NaN          NaN   \n",
       "1             NaN             NaN             NaN          NaN          NaN   \n",
       "2             NaN             NaN             NaN          NaN          NaN   \n",
       "3             NaN             NaN             NaN          NaN          NaN   \n",
       "4             NaN             NaN             NaN          NaN          NaN   \n",
       "\n",
       "  Pressure_Min  Precipitation  ICAO  \n",
       "0          NaN            NaN   NaN  \n",
       "1          NaN            NaN   NaN  \n",
       "2          NaN            NaN   NaN  \n",
       "3          NaN            NaN   NaN  \n",
       "4          NaN            NaN   NaN  \n",
       "\n",
       "[5 rows x 62 columns]"
      ]
     },
     "execution_count": 21,
     "metadata": {},
     "output_type": "execute_result"
    }
   ],
   "source": [
    "df.head()"
   ]
  },
  {
   "cell_type": "code",
   "execution_count": 22,
   "metadata": {},
   "outputs": [
    {
     "data": {
      "text/plain": [
       "0          NaN\n",
       "1          NaN\n",
       "2          NaN\n",
       "3          NaN\n",
       "4          NaN\n",
       "          ... \n",
       "153898   -15.0\n",
       "153899    12.0\n",
       "153900   -21.0\n",
       "153901   -10.0\n",
       "153902     6.0\n",
       "Name: ARR_DELAY, Length: 153903, dtype: float64"
      ]
     },
     "execution_count": 22,
     "metadata": {},
     "output_type": "execute_result"
    }
   ],
   "source": [
    "df.groupby('TAIL_NUM')['ARR_DELAY'].apply(lambda x: x.shift(1))"
   ]
  },
  {
   "cell_type": "code",
   "execution_count": 23,
   "metadata": {},
   "outputs": [
    {
     "data": {
      "text/plain": [
       "(153903, 62)"
      ]
     },
     "execution_count": 23,
     "metadata": {},
     "output_type": "execute_result"
    }
   ],
   "source": [
    "df.shape"
   ]
  },
  {
   "cell_type": "code",
   "execution_count": 24,
   "metadata": {},
   "outputs": [
    {
     "data": {
      "text/html": [
       "<div>\n",
       "<style scoped>\n",
       "    .dataframe tbody tr th:only-of-type {\n",
       "        vertical-align: middle;\n",
       "    }\n",
       "\n",
       "    .dataframe tbody tr th {\n",
       "        vertical-align: top;\n",
       "    }\n",
       "\n",
       "    .dataframe thead th {\n",
       "        text-align: right;\n",
       "    }\n",
       "</style>\n",
       "<table border=\"1\" class=\"dataframe\">\n",
       "  <thead>\n",
       "    <tr style=\"text-align: right;\">\n",
       "      <th></th>\n",
       "      <th>FL_DATE</th>\n",
       "      <th>OP_UNIQUE_CARRIER</th>\n",
       "      <th>OP_CARRIER_AIRLINE_ID</th>\n",
       "      <th>OP_CARRIER</th>\n",
       "      <th>TAIL_NUM</th>\n",
       "      <th>OP_CARRIER_FL_NUM</th>\n",
       "      <th>ORIGIN_AIRPORT_ID</th>\n",
       "      <th>ORIGIN_AIRPORT_SEQ_ID</th>\n",
       "      <th>ORIGIN_CITY_MARKET_ID</th>\n",
       "      <th>ORIGIN</th>\n",
       "      <th>...</th>\n",
       "      <th>Humidity_Avg</th>\n",
       "      <th>Humidity_Min</th>\n",
       "      <th>Wind Speed_Max</th>\n",
       "      <th>Wind Speed_Avg</th>\n",
       "      <th>Wind Speed_Min</th>\n",
       "      <th>Pressure_Max</th>\n",
       "      <th>Pressure_Avg</th>\n",
       "      <th>Pressure_Min</th>\n",
       "      <th>Precipitation</th>\n",
       "      <th>ICAO</th>\n",
       "    </tr>\n",
       "  </thead>\n",
       "  <tbody>\n",
       "    <tr>\n",
       "      <th>0</th>\n",
       "      <td>2016-01-02</td>\n",
       "      <td>WN</td>\n",
       "      <td>19393</td>\n",
       "      <td>WN</td>\n",
       "      <td>N624SW</td>\n",
       "      <td>6075</td>\n",
       "      <td>10423</td>\n",
       "      <td>1042302</td>\n",
       "      <td>30423</td>\n",
       "      <td>AUS</td>\n",
       "      <td>...</td>\n",
       "      <td>NaN</td>\n",
       "      <td>NaN</td>\n",
       "      <td>NaN</td>\n",
       "      <td>NaN</td>\n",
       "      <td>NaN</td>\n",
       "      <td>NaN</td>\n",
       "      <td>NaN</td>\n",
       "      <td>NaN</td>\n",
       "      <td>NaN</td>\n",
       "      <td>NaN</td>\n",
       "    </tr>\n",
       "    <tr>\n",
       "      <th>1</th>\n",
       "      <td>2016-01-02</td>\n",
       "      <td>WN</td>\n",
       "      <td>19393</td>\n",
       "      <td>WN</td>\n",
       "      <td>N762SW</td>\n",
       "      <td>6482</td>\n",
       "      <td>10423</td>\n",
       "      <td>1042302</td>\n",
       "      <td>30423</td>\n",
       "      <td>AUS</td>\n",
       "      <td>...</td>\n",
       "      <td>NaN</td>\n",
       "      <td>NaN</td>\n",
       "      <td>NaN</td>\n",
       "      <td>NaN</td>\n",
       "      <td>NaN</td>\n",
       "      <td>NaN</td>\n",
       "      <td>NaN</td>\n",
       "      <td>NaN</td>\n",
       "      <td>NaN</td>\n",
       "      <td>NaN</td>\n",
       "    </tr>\n",
       "    <tr>\n",
       "      <th>2</th>\n",
       "      <td>2016-01-03</td>\n",
       "      <td>WN</td>\n",
       "      <td>19393</td>\n",
       "      <td>WN</td>\n",
       "      <td>N274WN</td>\n",
       "      <td>4005</td>\n",
       "      <td>10423</td>\n",
       "      <td>1042302</td>\n",
       "      <td>30423</td>\n",
       "      <td>AUS</td>\n",
       "      <td>...</td>\n",
       "      <td>NaN</td>\n",
       "      <td>NaN</td>\n",
       "      <td>NaN</td>\n",
       "      <td>NaN</td>\n",
       "      <td>NaN</td>\n",
       "      <td>NaN</td>\n",
       "      <td>NaN</td>\n",
       "      <td>NaN</td>\n",
       "      <td>NaN</td>\n",
       "      <td>NaN</td>\n",
       "    </tr>\n",
       "    <tr>\n",
       "      <th>3</th>\n",
       "      <td>2016-01-03</td>\n",
       "      <td>WN</td>\n",
       "      <td>19393</td>\n",
       "      <td>WN</td>\n",
       "      <td>N422WN</td>\n",
       "      <td>4617</td>\n",
       "      <td>10423</td>\n",
       "      <td>1042302</td>\n",
       "      <td>30423</td>\n",
       "      <td>AUS</td>\n",
       "      <td>...</td>\n",
       "      <td>NaN</td>\n",
       "      <td>NaN</td>\n",
       "      <td>NaN</td>\n",
       "      <td>NaN</td>\n",
       "      <td>NaN</td>\n",
       "      <td>NaN</td>\n",
       "      <td>NaN</td>\n",
       "      <td>NaN</td>\n",
       "      <td>NaN</td>\n",
       "      <td>NaN</td>\n",
       "    </tr>\n",
       "    <tr>\n",
       "      <th>4</th>\n",
       "      <td>2016-01-04</td>\n",
       "      <td>WN</td>\n",
       "      <td>19393</td>\n",
       "      <td>WN</td>\n",
       "      <td>N476WN</td>\n",
       "      <td>472</td>\n",
       "      <td>10423</td>\n",
       "      <td>1042302</td>\n",
       "      <td>30423</td>\n",
       "      <td>AUS</td>\n",
       "      <td>...</td>\n",
       "      <td>NaN</td>\n",
       "      <td>NaN</td>\n",
       "      <td>NaN</td>\n",
       "      <td>NaN</td>\n",
       "      <td>NaN</td>\n",
       "      <td>NaN</td>\n",
       "      <td>NaN</td>\n",
       "      <td>NaN</td>\n",
       "      <td>NaN</td>\n",
       "      <td>NaN</td>\n",
       "    </tr>\n",
       "  </tbody>\n",
       "</table>\n",
       "<p>5 rows × 62 columns</p>\n",
       "</div>"
      ],
      "text/plain": [
       "     FL_DATE OP_UNIQUE_CARRIER  OP_CARRIER_AIRLINE_ID OP_CARRIER TAIL_NUM  \\\n",
       "0 2016-01-02                WN                  19393         WN   N624SW   \n",
       "1 2016-01-02                WN                  19393         WN   N762SW   \n",
       "2 2016-01-03                WN                  19393         WN   N274WN   \n",
       "3 2016-01-03                WN                  19393         WN   N422WN   \n",
       "4 2016-01-04                WN                  19393         WN   N476WN   \n",
       "\n",
       "   OP_CARRIER_FL_NUM  ORIGIN_AIRPORT_ID  ORIGIN_AIRPORT_SEQ_ID  \\\n",
       "0               6075              10423                1042302   \n",
       "1               6482              10423                1042302   \n",
       "2               4005              10423                1042302   \n",
       "3               4617              10423                1042302   \n",
       "4                472              10423                1042302   \n",
       "\n",
       "   ORIGIN_CITY_MARKET_ID ORIGIN  ... Humidity_Avg Humidity_Min  \\\n",
       "0                  30423    AUS  ...          NaN          NaN   \n",
       "1                  30423    AUS  ...          NaN          NaN   \n",
       "2                  30423    AUS  ...          NaN          NaN   \n",
       "3                  30423    AUS  ...          NaN          NaN   \n",
       "4                  30423    AUS  ...          NaN          NaN   \n",
       "\n",
       "   Wind Speed_Max  Wind Speed_Avg  Wind Speed_Min Pressure_Max Pressure_Avg  \\\n",
       "0             NaN             NaN             NaN          NaN          NaN   \n",
       "1             NaN             NaN             NaN          NaN          NaN   \n",
       "2             NaN             NaN             NaN          NaN          NaN   \n",
       "3             NaN             NaN             NaN          NaN          NaN   \n",
       "4             NaN             NaN             NaN          NaN          NaN   \n",
       "\n",
       "  Pressure_Min  Precipitation  ICAO  \n",
       "0          NaN            NaN   NaN  \n",
       "1          NaN            NaN   NaN  \n",
       "2          NaN            NaN   NaN  \n",
       "3          NaN            NaN   NaN  \n",
       "4          NaN            NaN   NaN  \n",
       "\n",
       "[5 rows x 62 columns]"
      ]
     },
     "execution_count": 24,
     "metadata": {},
     "output_type": "execute_result"
    }
   ],
   "source": [
    "df.head()"
   ]
  },
  {
   "cell_type": "code",
   "execution_count": 25,
   "metadata": {},
   "outputs": [
    {
     "data": {
      "text/plain": [
       "Index(['FL_DATE', 'OP_UNIQUE_CARRIER', 'OP_CARRIER_AIRLINE_ID', 'OP_CARRIER',\n",
       "       'TAIL_NUM', 'OP_CARRIER_FL_NUM', 'ORIGIN_AIRPORT_ID',\n",
       "       'ORIGIN_AIRPORT_SEQ_ID', 'ORIGIN_CITY_MARKET_ID', 'ORIGIN',\n",
       "       'ORIGIN_CITY_NAME', 'ORIGIN_STATE_ABR', 'DEST_AIRPORT_ID',\n",
       "       'DEST_AIRPORT_SEQ_ID', 'DEST_CITY_MARKET_ID', 'DEST', 'DEST_CITY_NAME',\n",
       "       'DEST_STATE_ABR', 'DEP_TIME', 'DEP_DELAY', 'ARR_TIME', 'ARR_DELAY',\n",
       "       'CANCELLED', 'CANCELLATION_CODE', 'DIVERTED', 'CARRIER_DELAY',\n",
       "       'WEATHER_DELAY', 'NAS_DELAY', 'LATE_AIRCRAFT_DELAY', 'Unnamed: 29',\n",
       "       'month', 'day', 'year', 'FL_DATE_quarter', 'weekday', 'year_month',\n",
       "       'Code_x', 'lat_ORIGIN', 'lon_ORIGIN', 'Code_y', 'lat_DEST', 'lon_DEST',\n",
       "       'flight_distance', 'Unnamed: 0', 'Day', 'Temperature_Max',\n",
       "       'Temperature_Avg', 'Temperature_Min', 'Dew Point_Max', 'Dew Point_Avg',\n",
       "       'Dew Point_Min', 'Humidity_Max', 'Humidity_Avg', 'Humidity_Min',\n",
       "       'Wind Speed_Max', 'Wind Speed_Avg', 'Wind Speed_Min', 'Pressure_Max',\n",
       "       'Pressure_Avg', 'Pressure_Min', 'Precipitation', 'ICAO'],\n",
       "      dtype='object')"
      ]
     },
     "execution_count": 25,
     "metadata": {},
     "output_type": "execute_result"
    }
   ],
   "source": [
    "df.columns"
   ]
  },
  {
   "cell_type": "code",
   "execution_count": 26,
   "metadata": {},
   "outputs": [],
   "source": [
    "train_df = df[(df.FL_DATE > datetime.datetime(2018, 1, 1)) & (df.FL_DATE <= datetime.datetime(2019, 9, 1))]\n",
    "test_df = df[(df.FL_DATE > datetime.datetime(2019, 9, 1)) & (df.FL_DATE <= datetime.datetime(2019, 9, 30))]"
   ]
  },
  {
   "cell_type": "code",
   "execution_count": 27,
   "metadata": {},
   "outputs": [
    {
     "name": "stdout",
     "output_type": "stream",
     "text": [
      "(69479, 62)\n",
      "(3036, 62)\n"
     ]
    }
   ],
   "source": [
    "print(train_df.shape)\n",
    "print(test_df.shape)"
   ]
  },
  {
   "cell_type": "code",
   "execution_count": 28,
   "metadata": {},
   "outputs": [],
   "source": [
    "df_ = df.copy(deep=True)"
   ]
  },
  {
   "cell_type": "code",
   "execution_count": 29,
   "metadata": {},
   "outputs": [],
   "source": [
    "df_ = df_[(df_.CANCELLED != 1) & (df_.DIVERTED != 1)]"
   ]
  },
  {
   "cell_type": "code",
   "execution_count": 30,
   "metadata": {},
   "outputs": [],
   "source": [
    "df_['ARR_DELAY_'] = df_['ARR_DELAY'] > 15\n",
    "df_['DEP_DELAY_'] = df_['DEP_DELAY'] > 15\n",
    "\n",
    "df_.loc[df.DEP_DELAY<0,'DEP_DELAY'] = 0\n",
    "df_.loc[df.ARR_DELAY<0,'ARR_DELAY'] = 0"
   ]
  },
  {
   "cell_type": "code",
   "execution_count": 31,
   "metadata": {},
   "outputs": [],
   "source": [
    "s1 = 14\n",
    "s2 = 28\n",
    "s3 = 365\n",
    "\n",
    "s1 = 7\n",
    "s2 = 14\n",
    "s3 = 365"
   ]
  },
  {
   "cell_type": "code",
   "execution_count": 32,
   "metadata": {},
   "outputs": [],
   "source": [
    "# Lag features by: TAIL_NUM\n",
    "calculations = {}\n",
    "calculations['calc1'] = {'gb_list':['TAIL_NUM','FL_DATE'],'target':'ARR_DELAY','shifts':[s1], 'windows':[3,5,10], 'funs':['mean']}\n",
    "#calculations['calc1'] = {'gb_list':['TAIL_NUM','FL_DATE'],'target':'ARR_DELAY','shifts':[30,45,60], 'windows':[10], 'funs':['mean','std']}\n",
    "#calculations['calc2'] = {'gb_list':['TAIL_NUM','FL_DATE'],'target':'ARR_DELAY','shifts':[365], 'windows':[5,10], 'funs':['mean']}\n",
    "\n",
    "df_ = apply_calc(df_, calculations)"
   ]
  },
  {
   "cell_type": "code",
   "execution_count": null,
   "metadata": {},
   "outputs": [
    {
     "name": "stdout",
     "output_type": "stream",
     "text": [
      "Generating ARR_DELAY__FL_DATE_s7_r1_mean\n",
      "Generating ARR_DELAY__FL_DATE_s14_r1_mean\n",
      "Generating ARR_DELAY__FL_DATE_s7_r5_mean\n",
      "Generating ARR_DELAY__FL_DATE_s14_r5_mean\n",
      "Generating ARR_DELAY__FL_DATE_s7_r10_mean\n",
      "Generating ARR_DELAY__FL_DATE_s14_r10_mean\n",
      "Generating ARR_DELAY__FL_DATE_s7_r1_std\n",
      "Generating ARR_DELAY__FL_DATE_s14_r1_std\n",
      "Generating ARR_DELAY__FL_DATE_s7_r5_std\n",
      "Generating ARR_DELAY__FL_DATE_s14_r5_std\n",
      "Generating ARR_DELAY__FL_DATE_s7_r10_std\n",
      "Generating ARR_DELAY__FL_DATE_s14_r10_std\n",
      "Generating ARR_DELAY_FL_DATE_s7_r1_median\n",
      "Generating ARR_DELAY_FL_DATE_s14_r1_median\n",
      "Generating ARR_DELAY_FL_DATE_s7_r15_median\n",
      "Generating ARR_DELAY_FL_DATE_s14_r15_median\n",
      "Generating ARR_DELAY_FL_DATE_s7_r30_median\n",
      "Generating ARR_DELAY_FL_DATE_s14_r30_median\n",
      "Generating ARR_DELAY_FL_DATE_s7_r1_std\n",
      "Generating ARR_DELAY_FL_DATE_s14_r1_std\n",
      "Generating ARR_DELAY_FL_DATE_s7_r15_std\n",
      "Generating ARR_DELAY_FL_DATE_s14_r15_std\n",
      "Generating ARR_DELAY_FL_DATE_s7_r30_std\n",
      "Generating ARR_DELAY_FL_DATE_s14_r30_std\n",
      "Generating ARR_DELAY__FL_DATE_s365_r10_mean\n",
      "Generating ARR_DELAY__FL_DATE_s365_r10_std\n"
     ]
    }
   ],
   "source": [
    "# Lag features by: DEST_AIRPORT_ID\n",
    "calculations = {}\n",
    "calculations['calc3'] = {'gb_list':['FL_DATE'],'target':'ARR_DELAY_','shifts':[s1,s2], 'windows':[1,5,10], 'funs':['mean','std']}\n",
    "calculations['calc4'] = {'gb_list':['FL_DATE'],'target':'ARR_DELAY','shifts':[s1,s2], 'windows':[1,15,30], 'funs':['median','std']}\n",
    "calculations['calc5'] = {'gb_list':['FL_DATE'],'target':'ARR_DELAY_','shifts':[s3], 'windows':[10], 'funs':['mean','std']}\n",
    "\n",
    "df_ = apply_calc(df_, calculations)"
   ]
  },
  {
   "cell_type": "code",
   "execution_count": null,
   "metadata": {},
   "outputs": [
    {
     "name": "stdout",
     "output_type": "stream",
     "text": [
      "Generating DEP_DELAY__ORIGIN_AIRPORT_ID_FL_DATE_s7_r1_mean\n",
      "Generating DEP_DELAY__ORIGIN_AIRPORT_ID_FL_DATE_s14_r1_mean\n",
      "Generating DEP_DELAY__ORIGIN_AIRPORT_ID_FL_DATE_s7_r5_mean\n",
      "Generating DEP_DELAY__ORIGIN_AIRPORT_ID_FL_DATE_s14_r5_mean\n",
      "Generating DEP_DELAY__ORIGIN_AIRPORT_ID_FL_DATE_s7_r10_mean\n",
      "Generating DEP_DELAY__ORIGIN_AIRPORT_ID_FL_DATE_s14_r10_mean\n",
      "Generating DEP_DELAY_DEST_AIRPORT_ID_FL_DATE_s7_r1_median\n",
      "Generating DEP_DELAY_DEST_AIRPORT_ID_FL_DATE_s14_r1_median\n",
      "Generating DEP_DELAY_DEST_AIRPORT_ID_FL_DATE_s7_r15_median\n",
      "Generating DEP_DELAY_DEST_AIRPORT_ID_FL_DATE_s14_r15_median\n",
      "Generating DEP_DELAY_DEST_AIRPORT_ID_FL_DATE_s7_r30_median\n",
      "Generating DEP_DELAY_DEST_AIRPORT_ID_FL_DATE_s14_r30_median\n",
      "Generating DEP_DELAY_DEST_AIRPORT_ID_FL_DATE_s7_r1_std\n",
      "Generating DEP_DELAY_DEST_AIRPORT_ID_FL_DATE_s14_r1_std\n",
      "Generating DEP_DELAY_DEST_AIRPORT_ID_FL_DATE_s7_r15_std\n",
      "Generating DEP_DELAY_DEST_AIRPORT_ID_FL_DATE_s14_r15_std\n",
      "Generating DEP_DELAY_DEST_AIRPORT_ID_FL_DATE_s7_r30_std\n",
      "Generating DEP_DELAY_DEST_AIRPORT_ID_FL_DATE_s14_r30_std\n",
      "Generating DEP_DELAY__ORIGIN_AIRPORT_ID_FL_DATE_s365_r10_mean\n"
     ]
    }
   ],
   "source": [
    "# Lag features by: ORIGIN_AIRPORT_ID\n",
    "calculations = {}\n",
    "calculations['calc6'] = {'gb_list':['ORIGIN_AIRPORT_ID','FL_DATE'],'target':'DEP_DELAY_','shifts':[s1,s2], 'windows':[1,5,10], 'funs':['mean']}\n",
    "calculations['calc7'] = {'gb_list':['DEST_AIRPORT_ID','FL_DATE'],'target':'DEP_DELAY','shifts':[s1,s2], 'windows':[1,15,30], 'funs':['median','std']}\n",
    "calculations['calc8'] = {'gb_list':['ORIGIN_AIRPORT_ID','FL_DATE'],'target':'DEP_DELAY_','shifts':[s3], 'windows':[10], 'funs':['mean']}\n",
    "\n",
    "df_ = apply_calc(df_, calculations)"
   ]
  },
  {
   "cell_type": "code",
   "execution_count": null,
   "metadata": {},
   "outputs": [
    {
     "name": "stdout",
     "output_type": "stream",
     "text": [
      "Generating DEP_DELAY__OP_CARRIER_AIRLINE_ID_FL_DATE_s7_r1_mean\n",
      "Generating DEP_DELAY__OP_CARRIER_AIRLINE_ID_FL_DATE_s14_r1_mean\n",
      "Generating DEP_DELAY__OP_CARRIER_AIRLINE_ID_FL_DATE_s7_r5_mean\n",
      "Generating DEP_DELAY__OP_CARRIER_AIRLINE_ID_FL_DATE_s14_r5_mean\n",
      "Generating DEP_DELAY__OP_CARRIER_AIRLINE_ID_FL_DATE_s7_r10_mean\n",
      "Generating DEP_DELAY__OP_CARRIER_AIRLINE_ID_FL_DATE_s14_r10_mean\n",
      "Generating DEP_DELAY_OP_CARRIER_AIRLINE_ID_FL_DATE_s7_r10_median\n",
      "Generating DEP_DELAY_OP_CARRIER_AIRLINE_ID_FL_DATE_s7_r10_std\n",
      "Generating DEP_DELAY__OP_CARRIER_AIRLINE_ID_FL_DATE_s365_r10_mean\n"
     ]
    }
   ],
   "source": [
    "# Lag features by: OP_CARRIER_AIRLINE_ID\n",
    "calculations = {}\n",
    "calculations['calc3'] = {'gb_list':['OP_CARRIER_AIRLINE_ID','FL_DATE'],'target':'ARR_DELAY_','shifts':[s1,s2], 'windows':[1,5,10], 'funs':['mean']}\n",
    "calculations['calc4'] = {'gb_list':['OP_CARRIER_AIRLINE_ID','FL_DATE'],'target':'ARR_DELAY','shifts':[s2], 'windows':[10], 'funs':['median','std']}\n",
    "calculations['calc5'] = {'gb_list':['OP_CARRIER_AIRLINE_ID','FL_DATE'],'target':'ARR_DELAY_','shifts':[s3], 'windows':[10], 'funs':['mean']}\n",
    "\n",
    "calculations['calc3'] = {'gb_list':['OP_CARRIER_AIRLINE_ID','FL_DATE'],'target':'DEP_DELAY_','shifts':[s1,s2], 'windows':[1,5,10], 'funs':['mean']}\n",
    "calculations['calc4'] = {'gb_list':['OP_CARRIER_AIRLINE_ID','FL_DATE'],'target':'DEP_DELAY','shifts':[s1], 'windows':[10], 'funs':['median','std']}\n",
    "calculations['calc5'] = {'gb_list':['OP_CARRIER_AIRLINE_ID','FL_DATE'],'target':'DEP_DELAY_','shifts':[s3], 'windows':[10], 'funs':['mean']}\n",
    "\n",
    "df_ = apply_calc(df_, calculations)"
   ]
  },
  {
   "cell_type": "code",
   "execution_count": null,
   "metadata": {},
   "outputs": [],
   "source": [
    "# Convert times \n",
    "# [ARR_TIME, DEP_TIME]\n",
    "\n",
    "df_['DEP_TIME'] = df_['DEP_TIME']/100\n",
    "df_['ARR_TIME'] = df_['ARR_TIME']/100\n",
    "\n",
    "df_['DEP_TIME'] = df_['DEP_TIME'].astype(int)\n",
    "df_['ARR_TIME'] = df_['ARR_TIME'].astype(int)"
   ]
  },
  {
   "cell_type": "code",
   "execution_count": null,
   "metadata": {},
   "outputs": [],
   "source": [
    "df_['TAIL_NUM_n_flights'] = df_.groupby(['TAIL_NUM','FL_DATE'])['ARR_TIME'].transform( lambda x: x.count())"
   ]
  },
  {
   "cell_type": "code",
   "execution_count": null,
   "metadata": {},
   "outputs": [],
   "source": [
    "df_['OP_CARRIER_AIRLINE_ID_n_flights'] = df_.groupby(['OP_CARRIER_AIRLINE_ID','FL_DATE'])['ARR_TIME'].transform( lambda x: x.count())"
   ]
  },
  {
   "cell_type": "code",
   "execution_count": null,
   "metadata": {},
   "outputs": [],
   "source": [
    "df_['DEP_n_flights_per_hour'] = df_.groupby(['FL_DATE','DEP_TIME'])['ARR_TIME'].transform( lambda x: x.count())\n",
    "df_['ARR_n_flights_per_hour'] = df_.groupby(['FL_DATE','ARR_TIME'])['DEP_TIME'].transform( lambda x: x.count())\n",
    "\n",
    "df_['n_flights_per_hour'] = df_['DEP_n_flights_per_hour'] + df_['ARR_n_flights_per_hour'] "
   ]
  },
  {
   "cell_type": "code",
   "execution_count": null,
   "metadata": {},
   "outputs": [],
   "source": [
    "df_['DEP_n_flights_cumsum'] = df_.groupby(['FL_DATE'])['DEP_n_flights_per_hour'].transform( lambda x: x.cumsum())\n",
    "df_['ARR_n_flights_cumsum'] = df_.groupby(['FL_DATE'])['ARR_n_flights_per_hour'].transform( lambda x: x.cumsum())\n",
    "df_['n_flights_cumsum'] = df_.groupby(['FL_DATE'])['n_flights_per_hour'].transform( lambda x: x.cumsum())"
   ]
  },
  {
   "cell_type": "code",
   "execution_count": null,
   "metadata": {},
   "outputs": [
    {
     "name": "stdout",
     "output_type": "stream",
     "text": [
      "Generating ARR_DELAY__OP_CARRIER_AIRLINE_ID_FL_DATE_s7_mean\n",
      "Generating ARR_DELAY__OP_CARRIER_AIRLINE_ID_FL_DATE_s7_std\n",
      "Generating ARR_DELAY_OP_CARRIER_AIRLINE_ID_FL_DATE_s7_mean\n",
      "Generating ARR_DELAY_OP_CARRIER_AIRLINE_ID_FL_DATE_s7_std\n",
      "Generating ARR_DELAY__OP_CARRIER_AIRLINE_ID_FL_DATE_s365_mean\n",
      "Generating ARR_DELAY__OP_CARRIER_AIRLINE_ID_FL_DATE_s365_std\n",
      "Generating DEP_DELAY__OP_CARRIER_AIRLINE_ID_FL_DATE_s7_mean\n",
      "Generating DEP_DELAY__OP_CARRIER_AIRLINE_ID_FL_DATE_s7_std\n",
      "Generating DEP_DELAY_OP_CARRIER_AIRLINE_ID_FL_DATE_s7_mean\n",
      "Generating DEP_DELAY_OP_CARRIER_AIRLINE_ID_FL_DATE_s7_std\n",
      "Generating DEP_DELAY__OP_CARRIER_AIRLINE_ID_FL_DATE_s365_mean\n",
      "Generating DEP_DELAY__OP_CARRIER_AIRLINE_ID_FL_DATE_s365_std\n"
     ]
    }
   ],
   "source": [
    "# Not Lagged\n",
    "calculations = {}\n",
    "calculations['calc1'] = {'gb_list':['OP_CARRIER_AIRLINE_ID','FL_DATE'],'target':'ARR_DELAY_','shifts':[s1], 'funs':['mean','std']}\n",
    "calculations['calc2'] = {'gb_list':['OP_CARRIER_AIRLINE_ID','FL_DATE'],'target':'ARR_DELAY','shifts':[s1], 'funs':['mean','std']}\n",
    "\n",
    "calculations['calc3'] = {'gb_list':['OP_CARRIER_AIRLINE_ID','FL_DATE'],'target':'ARR_DELAY_','shifts':[s3], 'funs':['mean','std']}\n",
    "\n",
    "calculations['calc4'] = {'gb_list':['OP_CARRIER_AIRLINE_ID','FL_DATE'],'target':'DEP_DELAY_','shifts':[s1], 'funs':['mean','std']}\n",
    "calculations['calc5'] = {'gb_list':['OP_CARRIER_AIRLINE_ID','FL_DATE'],'target':'DEP_DELAY','shifts':[s1], 'funs':['mean','std']}\n",
    "\n",
    "calculations['calc6'] = {'gb_list':['OP_CARRIER_AIRLINE_ID','FL_DATE'],'target':'DEP_DELAY_','shifts':[s3], 'funs':['mean','std']}\n",
    "\n",
    "df_ = apply_calc(df_, calculations)"
   ]
  },
  {
   "cell_type": "code",
   "execution_count": null,
   "metadata": {},
   "outputs": [
    {
     "name": "stdout",
     "output_type": "stream",
     "text": [
      "Generating CARRIER_DELAY_OP_CARRIER_AIRLINE_ID_FL_DATE_s7_mean\n",
      "Generating LATE_AIRCRAFT_DELAY_OP_CARRIER_AIRLINE_ID_FL_DATE_s7_median\n",
      "Generating NAS_DELAY_OP_CARRIER_AIRLINE_ID_FL_DATE_s7_mean\n",
      "Generating WEATHER_DELAY_FL_DATE_s7_mean\n",
      "Generating LATE_AIRCRAFT_DELAY_OP_CARRIER_AIRLINE_ID_FL_DATE_s7_mean\n",
      "Generating WEATHER_DELAY_ORIGIN_AIRPORT_ID_s7_mean\n",
      "Generating NAS_DELAY_ORIGIN_AIRPORT_ID_s7_mean\n"
     ]
    }
   ],
   "source": [
    "# Type of delay\n",
    "calculations = {}\n",
    "calculations['calc3'] = {'gb_list':['OP_CARRIER_AIRLINE_ID','FL_DATE'],'target':'CARRIER_DELAY','shifts':[s1], 'funs':['mean']}\n",
    "calculations['calc4'] = {'gb_list':['OP_CARRIER_AIRLINE_ID','FL_DATE'],'target':'LATE_AIRCRAFT_DELAY','shifts':[s1], 'funs':['median']}\n",
    "calculations['calc5'] = {'gb_list':['OP_CARRIER_AIRLINE_ID','FL_DATE'],'target':'NAS_DELAY','shifts':[s1], 'funs':['mean']}\n",
    "calculations['calc6'] = {'gb_list':['FL_DATE'],'target':'WEATHER_DELAY','shifts':[s1], 'funs':['mean']}\n",
    "calculations['calc7'] = {'gb_list':['OP_CARRIER_AIRLINE_ID','FL_DATE'],'target':'LATE_AIRCRAFT_DELAY','shifts':[s1], 'funs':['mean']}\n",
    "\n",
    "calculations['calc8'] = {'gb_list':['ORIGIN_AIRPORT_ID'],'target':'WEATHER_DELAY','shifts':[s1], 'funs':['mean']}\n",
    "calculations['calc9'] = {'gb_list':['ORIGIN_AIRPORT_ID'],'target':'NAS_DELAY','shifts':[s1], 'funs':['mean']}\n",
    "\n",
    "df_ = apply_calc(df_, calculations)"
   ]
  },
  {
   "cell_type": "code",
   "execution_count": null,
   "metadata": {},
   "outputs": [
    {
     "name": "stdout",
     "output_type": "stream",
     "text": [
      "Generating ARR_DELAY_FL_DATE_s7_r1_mean\n",
      "Generating ARR_DELAY_FL_DATE_s14_r1_mean\n",
      "Generating ARR_DELAY_FL_DATE_s372_r1_mean\n",
      "Generating ARR_DELAY_FL_DATE_s7_r7_mean\n",
      "Generating ARR_DELAY_FL_DATE_s14_r7_mean\n",
      "Generating ARR_DELAY_FL_DATE_s372_r7_mean\n",
      "Generating ARR_DELAY_FL_DATE_s7_r14_mean\n",
      "Generating ARR_DELAY_FL_DATE_s14_r14_mean\n",
      "Generating ARR_DELAY_FL_DATE_s372_r14_mean\n",
      "Generating ARR_DELAY_FL_DATE_s7_r1_std\n",
      "Generating ARR_DELAY_FL_DATE_s14_r1_std\n",
      "Generating ARR_DELAY_FL_DATE_s372_r1_std\n",
      "Generating ARR_DELAY_FL_DATE_s7_r7_std\n",
      "Generating ARR_DELAY_FL_DATE_s14_r7_std\n",
      "Generating ARR_DELAY_FL_DATE_s372_r7_std\n",
      "Generating ARR_DELAY_FL_DATE_s7_r14_std\n",
      "Generating ARR_DELAY_FL_DATE_s14_r14_std\n",
      "Generating ARR_DELAY_FL_DATE_s372_r14_std\n"
     ]
    }
   ],
   "source": [
    "calculations = {}\n",
    "calculations['calc'] = {'gb_list':['FL_DATE'],'target':'ARR_DELAY','shifts':[s1, s2, s3+s1], 'windows':[1,7,14], 'funs':['mean','std']}\n",
    "\n",
    "df_ = apply_calc(df_, calculations)"
   ]
  },
  {
   "cell_type": "code",
   "execution_count": null,
   "metadata": {},
   "outputs": [],
   "source": [
    "drop_cols = ['CANCELLED', 'CANCELLATION_CODE', 'DIVERTED', 'CARRIER_DELAY', 'WEATHER_DELAY', 'NAS_DELAY', 'LATE_AIRCRAFT_DELAY', 'Unnamed: 29']\n",
    "for col in drop_cols:\n",
    "    del df_[col]"
   ]
  },
  {
   "cell_type": "code",
   "execution_count": null,
   "metadata": {},
   "outputs": [
    {
     "name": "stdout",
     "output_type": "stream",
     "text": [
      "FL_DATE 1338\n",
      "OP_UNIQUE_CARRIER 1\n",
      "OP_CARRIER 1\n",
      "TAIL_NUM 873\n",
      "ORIGIN 40\n",
      "ORIGIN_CITY_NAME 39\n",
      "ORIGIN_STATE_ABR 24\n",
      "DEST 1\n",
      "DEST_CITY_NAME 1\n",
      "DEST_STATE_ABR 1\n",
      "year_month 44\n",
      "Day 274\n",
      "ICAO 2\n",
      "ARR_DELAY_ 2\n",
      "DEP_DELAY_ 2\n"
     ]
    }
   ],
   "source": [
    "keep = list(df_.select_dtypes(include=np.number).columns)\n",
    "\n",
    "for col in df_.select_dtypes(exclude=np.number).columns:\n",
    "    print(col, len(df_[col].unique()))\n",
    "    if len(df_[col].unique()) < 100:\n",
    "        keep.append(col)\n",
    "        le = LabelEncoder()\n",
    "        df_[col] = le.fit_transform(df_[col])\n",
    "        df_[col] = df_[col].astype('category')"
   ]
  },
  {
   "cell_type": "code",
   "execution_count": null,
   "metadata": {},
   "outputs": [],
   "source": [
    "drop_cols = ['DEST_CITY_NAME','ORIGIN_CITY_NAME', 'Unnamed: 0','year_month']\n",
    "\n",
    "for col in drop_cols:\n",
    "    try:\n",
    "        keep.remove(col)\n",
    "    except:\n",
    "        pass\n"
   ]
  },
  {
   "cell_type": "code",
   "execution_count": null,
   "metadata": {},
   "outputs": [],
   "source": [
    "df_.fillna(0, inplace=True)"
   ]
  },
  {
   "cell_type": "code",
   "execution_count": null,
   "metadata": {},
   "outputs": [
    {
     "data": {
      "text/html": [
       "<div>\n",
       "<style scoped>\n",
       "    .dataframe tbody tr th:only-of-type {\n",
       "        vertical-align: middle;\n",
       "    }\n",
       "\n",
       "    .dataframe tbody tr th {\n",
       "        vertical-align: top;\n",
       "    }\n",
       "\n",
       "    .dataframe thead th {\n",
       "        text-align: right;\n",
       "    }\n",
       "</style>\n",
       "<table border=\"1\" class=\"dataframe\">\n",
       "  <thead>\n",
       "    <tr style=\"text-align: right;\">\n",
       "      <th></th>\n",
       "      <th>FL_DATE</th>\n",
       "      <th>OP_UNIQUE_CARRIER</th>\n",
       "      <th>OP_CARRIER_AIRLINE_ID</th>\n",
       "      <th>OP_CARRIER</th>\n",
       "      <th>TAIL_NUM</th>\n",
       "      <th>OP_CARRIER_FL_NUM</th>\n",
       "      <th>ORIGIN_AIRPORT_ID</th>\n",
       "      <th>ORIGIN_AIRPORT_SEQ_ID</th>\n",
       "      <th>ORIGIN_CITY_MARKET_ID</th>\n",
       "      <th>ORIGIN</th>\n",
       "      <th>...</th>\n",
       "      <th>ARR_DELAY_FL_DATE_s7_r14_mean</th>\n",
       "      <th>ARR_DELAY_FL_DATE_s14_r14_mean</th>\n",
       "      <th>ARR_DELAY_FL_DATE_s372_r14_mean</th>\n",
       "      <th>ARR_DELAY_FL_DATE_s372_r1_std</th>\n",
       "      <th>ARR_DELAY_FL_DATE_s7_r7_std</th>\n",
       "      <th>ARR_DELAY_FL_DATE_s14_r7_std</th>\n",
       "      <th>ARR_DELAY_FL_DATE_s372_r7_std</th>\n",
       "      <th>ARR_DELAY_FL_DATE_s7_r14_std</th>\n",
       "      <th>ARR_DELAY_FL_DATE_s14_r14_std</th>\n",
       "      <th>ARR_DELAY_FL_DATE_s372_r14_std</th>\n",
       "    </tr>\n",
       "  </thead>\n",
       "  <tbody>\n",
       "    <tr>\n",
       "      <th>0</th>\n",
       "      <td>2016-01-02</td>\n",
       "      <td>0</td>\n",
       "      <td>19393</td>\n",
       "      <td>0</td>\n",
       "      <td>N624SW</td>\n",
       "      <td>6075</td>\n",
       "      <td>10423</td>\n",
       "      <td>1042302</td>\n",
       "      <td>30423</td>\n",
       "      <td>0</td>\n",
       "      <td>...</td>\n",
       "      <td>0.0</td>\n",
       "      <td>0.0</td>\n",
       "      <td>0.0</td>\n",
       "      <td>0.0</td>\n",
       "      <td>0.0</td>\n",
       "      <td>0.0</td>\n",
       "      <td>0.0</td>\n",
       "      <td>0.0</td>\n",
       "      <td>0.0</td>\n",
       "      <td>0.0</td>\n",
       "    </tr>\n",
       "    <tr>\n",
       "      <th>1</th>\n",
       "      <td>2016-01-02</td>\n",
       "      <td>0</td>\n",
       "      <td>19393</td>\n",
       "      <td>0</td>\n",
       "      <td>N762SW</td>\n",
       "      <td>6482</td>\n",
       "      <td>10423</td>\n",
       "      <td>1042302</td>\n",
       "      <td>30423</td>\n",
       "      <td>0</td>\n",
       "      <td>...</td>\n",
       "      <td>0.0</td>\n",
       "      <td>0.0</td>\n",
       "      <td>0.0</td>\n",
       "      <td>0.0</td>\n",
       "      <td>0.0</td>\n",
       "      <td>0.0</td>\n",
       "      <td>0.0</td>\n",
       "      <td>0.0</td>\n",
       "      <td>0.0</td>\n",
       "      <td>0.0</td>\n",
       "    </tr>\n",
       "    <tr>\n",
       "      <th>2</th>\n",
       "      <td>2016-01-03</td>\n",
       "      <td>0</td>\n",
       "      <td>19393</td>\n",
       "      <td>0</td>\n",
       "      <td>N274WN</td>\n",
       "      <td>4005</td>\n",
       "      <td>10423</td>\n",
       "      <td>1042302</td>\n",
       "      <td>30423</td>\n",
       "      <td>0</td>\n",
       "      <td>...</td>\n",
       "      <td>0.0</td>\n",
       "      <td>0.0</td>\n",
       "      <td>0.0</td>\n",
       "      <td>0.0</td>\n",
       "      <td>0.0</td>\n",
       "      <td>0.0</td>\n",
       "      <td>0.0</td>\n",
       "      <td>0.0</td>\n",
       "      <td>0.0</td>\n",
       "      <td>0.0</td>\n",
       "    </tr>\n",
       "    <tr>\n",
       "      <th>3</th>\n",
       "      <td>2016-01-03</td>\n",
       "      <td>0</td>\n",
       "      <td>19393</td>\n",
       "      <td>0</td>\n",
       "      <td>N422WN</td>\n",
       "      <td>4617</td>\n",
       "      <td>10423</td>\n",
       "      <td>1042302</td>\n",
       "      <td>30423</td>\n",
       "      <td>0</td>\n",
       "      <td>...</td>\n",
       "      <td>0.0</td>\n",
       "      <td>0.0</td>\n",
       "      <td>0.0</td>\n",
       "      <td>0.0</td>\n",
       "      <td>0.0</td>\n",
       "      <td>0.0</td>\n",
       "      <td>0.0</td>\n",
       "      <td>0.0</td>\n",
       "      <td>0.0</td>\n",
       "      <td>0.0</td>\n",
       "    </tr>\n",
       "    <tr>\n",
       "      <th>4</th>\n",
       "      <td>2016-01-04</td>\n",
       "      <td>0</td>\n",
       "      <td>19393</td>\n",
       "      <td>0</td>\n",
       "      <td>N476WN</td>\n",
       "      <td>472</td>\n",
       "      <td>10423</td>\n",
       "      <td>1042302</td>\n",
       "      <td>30423</td>\n",
       "      <td>0</td>\n",
       "      <td>...</td>\n",
       "      <td>0.0</td>\n",
       "      <td>0.0</td>\n",
       "      <td>0.0</td>\n",
       "      <td>0.0</td>\n",
       "      <td>0.0</td>\n",
       "      <td>0.0</td>\n",
       "      <td>0.0</td>\n",
       "      <td>0.0</td>\n",
       "      <td>0.0</td>\n",
       "      <td>0.0</td>\n",
       "    </tr>\n",
       "  </tbody>\n",
       "</table>\n",
       "<p>5 rows × 154 columns</p>\n",
       "</div>"
      ],
      "text/plain": [
       "     FL_DATE OP_UNIQUE_CARRIER  OP_CARRIER_AIRLINE_ID OP_CARRIER TAIL_NUM  \\\n",
       "0 2016-01-02                 0                  19393          0   N624SW   \n",
       "1 2016-01-02                 0                  19393          0   N762SW   \n",
       "2 2016-01-03                 0                  19393          0   N274WN   \n",
       "3 2016-01-03                 0                  19393          0   N422WN   \n",
       "4 2016-01-04                 0                  19393          0   N476WN   \n",
       "\n",
       "   OP_CARRIER_FL_NUM  ORIGIN_AIRPORT_ID  ORIGIN_AIRPORT_SEQ_ID  \\\n",
       "0               6075              10423                1042302   \n",
       "1               6482              10423                1042302   \n",
       "2               4005              10423                1042302   \n",
       "3               4617              10423                1042302   \n",
       "4                472              10423                1042302   \n",
       "\n",
       "   ORIGIN_CITY_MARKET_ID ORIGIN  ... ARR_DELAY_FL_DATE_s7_r14_mean  \\\n",
       "0                  30423      0  ...                           0.0   \n",
       "1                  30423      0  ...                           0.0   \n",
       "2                  30423      0  ...                           0.0   \n",
       "3                  30423      0  ...                           0.0   \n",
       "4                  30423      0  ...                           0.0   \n",
       "\n",
       "  ARR_DELAY_FL_DATE_s14_r14_mean  ARR_DELAY_FL_DATE_s372_r14_mean  \\\n",
       "0                            0.0                              0.0   \n",
       "1                            0.0                              0.0   \n",
       "2                            0.0                              0.0   \n",
       "3                            0.0                              0.0   \n",
       "4                            0.0                              0.0   \n",
       "\n",
       "   ARR_DELAY_FL_DATE_s372_r1_std  ARR_DELAY_FL_DATE_s7_r7_std  \\\n",
       "0                            0.0                          0.0   \n",
       "1                            0.0                          0.0   \n",
       "2                            0.0                          0.0   \n",
       "3                            0.0                          0.0   \n",
       "4                            0.0                          0.0   \n",
       "\n",
       "  ARR_DELAY_FL_DATE_s14_r7_std ARR_DELAY_FL_DATE_s372_r7_std  \\\n",
       "0                          0.0                           0.0   \n",
       "1                          0.0                           0.0   \n",
       "2                          0.0                           0.0   \n",
       "3                          0.0                           0.0   \n",
       "4                          0.0                           0.0   \n",
       "\n",
       "  ARR_DELAY_FL_DATE_s7_r14_std  ARR_DELAY_FL_DATE_s14_r14_std  \\\n",
       "0                          0.0                            0.0   \n",
       "1                          0.0                            0.0   \n",
       "2                          0.0                            0.0   \n",
       "3                          0.0                            0.0   \n",
       "4                          0.0                            0.0   \n",
       "\n",
       "   ARR_DELAY_FL_DATE_s372_r14_std  \n",
       "0                             0.0  \n",
       "1                             0.0  \n",
       "2                             0.0  \n",
       "3                             0.0  \n",
       "4                             0.0  \n",
       "\n",
       "[5 rows x 154 columns]"
      ]
     },
     "execution_count": 46,
     "metadata": {},
     "output_type": "execute_result"
    }
   ],
   "source": [
    "df_.head()"
   ]
  },
  {
   "cell_type": "code",
   "execution_count": null,
   "metadata": {},
   "outputs": [],
   "source": [
    "train_df = df_.loc[(df_.FL_DATE > datetime.datetime(2018, 1, 1)) & (df_.FL_DATE <= datetime.datetime(2019, 9, 1)), keep]\n",
    "test_df = df_.loc[(df_.FL_DATE > datetime.datetime(2019, 9, 1)) & (df_.FL_DATE <= datetime.datetime(2019, 9, 30)), keep]"
   ]
  },
  {
   "cell_type": "code",
   "execution_count": null,
   "metadata": {},
   "outputs": [
    {
     "name": "stdout",
     "output_type": "stream",
     "text": [
      "(67872, 148)\n",
      "(2982, 148)\n"
     ]
    }
   ],
   "source": [
    "print(train_df.shape)\n",
    "print(test_df.shape)"
   ]
  },
  {
   "cell_type": "code",
   "execution_count": null,
   "metadata": {},
   "outputs": [],
   "source": [
    "TARGET = 'ARR_DELAY_'\n",
    "drop = ['DEP_DELAY','ARR_DELAY','DEP_DELAY_']"
   ]
  },
  {
   "cell_type": "code",
   "execution_count": null,
   "metadata": {},
   "outputs": [],
   "source": [
    "features = [ col for col in train_df.columns if col != TARGET and col not in drop ]\n",
    "\n",
    "X_train = train_df[features]\n",
    "y_train = train_df[TARGET]\n",
    "\n",
    "X_test = test_df[features]\n",
    "y_test = test_df[TARGET]"
   ]
  },
  {
   "cell_type": "code",
   "execution_count": null,
   "metadata": {},
   "outputs": [],
   "source": [
    "import lightgbm as lgbm\n",
    "#reg = lgbm.LGBMRegressor(objective='tweedie', n_estimators=400)\n",
    "reg = lgbm.LGBMClassifier(metric='roc_auc', n_estimators=400)"
   ]
  },
  {
   "cell_type": "code",
   "execution_count": null,
   "metadata": {},
   "outputs": [
    {
     "name": "stdout",
     "output_type": "stream",
     "text": [
      "Fitting 5 folds for each of 20 candidates, totalling 100 fits\n"
     ]
    },
    {
     "name": "stderr",
     "output_type": "stream",
     "text": [
      "/Users/carlosperezricardo/opt/anaconda3/lib/python3.8/site-packages/joblib/externals/loky/process_executor.py:688: UserWarning: A worker stopped while some jobs were given to the executor. This can be caused by a too short worker timeout or by a memory leak.\n",
      "  warnings.warn(\n"
     ]
    }
   ],
   "source": [
    "from sklearn.model_selection import GridSearchCV\n",
    "\n",
    "rf = lgbm.LGBMClassifier(metric='roc_auc')\n",
    "\n",
    "param_dist = {\"max_depth\": [40, 50, 60, 70],\n",
    "                  \"n_estimators\": [250, 300, 450, 550, 650]\n",
    "                 }\n",
    "grid_search = GridSearchCV(rf, n_jobs=-1, param_grid=param_dist, cv = 5, scoring='roc_auc', verbose=20)\n",
    "grid_search.fit(X_train, y_train)\n",
    "reg = grid_search.best_estimator_"
   ]
  },
  {
   "cell_type": "code",
   "execution_count": null,
   "metadata": {},
   "outputs": [
    {
     "data": {
      "text/plain": [
       "LGBMClassifier(max_depth=40, metric='roc_auc', n_estimators=250)"
      ]
     },
     "execution_count": 101,
     "metadata": {},
     "output_type": "execute_result"
    }
   ],
   "source": [
    "reg.fit(X_train, y_train)"
   ]
  },
  {
   "cell_type": "code",
   "execution_count": null,
   "metadata": {},
   "outputs": [
    {
     "data": {
      "text/html": [
       "<div>\n",
       "<style scoped>\n",
       "    .dataframe tbody tr th:only-of-type {\n",
       "        vertical-align: middle;\n",
       "    }\n",
       "\n",
       "    .dataframe tbody tr th {\n",
       "        vertical-align: top;\n",
       "    }\n",
       "\n",
       "    .dataframe thead th {\n",
       "        text-align: right;\n",
       "    }\n",
       "</style>\n",
       "<table border=\"1\" class=\"dataframe\">\n",
       "  <thead>\n",
       "    <tr style=\"text-align: right;\">\n",
       "      <th></th>\n",
       "      <th>columns</th>\n",
       "      <th>feature_importance</th>\n",
       "    </tr>\n",
       "  </thead>\n",
       "  <tbody>\n",
       "    <tr>\n",
       "      <th>138</th>\n",
       "      <td>ORIGIN</td>\n",
       "      <td>747</td>\n",
       "    </tr>\n",
       "    <tr>\n",
       "      <th>9</th>\n",
       "      <td>ARR_TIME</td>\n",
       "      <td>600</td>\n",
       "    </tr>\n",
       "    <tr>\n",
       "      <th>142</th>\n",
       "      <td>year_month</td>\n",
       "      <td>445</td>\n",
       "    </tr>\n",
       "    <tr>\n",
       "      <th>1</th>\n",
       "      <td>OP_CARRIER_FL_NUM</td>\n",
       "      <td>403</td>\n",
       "    </tr>\n",
       "    <tr>\n",
       "      <th>8</th>\n",
       "      <td>DEP_TIME</td>\n",
       "      <td>335</td>\n",
       "    </tr>\n",
       "    <tr>\n",
       "      <th>119</th>\n",
       "      <td>NAS_DELAY_ORIGIN_AIRPORT_ID_s7_mean</td>\n",
       "      <td>213</td>\n",
       "    </tr>\n",
       "    <tr>\n",
       "      <th>96</th>\n",
       "      <td>ARR_n_flights_per_hour</td>\n",
       "      <td>194</td>\n",
       "    </tr>\n",
       "    <tr>\n",
       "      <th>118</th>\n",
       "      <td>WEATHER_DELAY_ORIGIN_AIRPORT_ID_s7_mean</td>\n",
       "      <td>192</td>\n",
       "    </tr>\n",
       "    <tr>\n",
       "      <th>97</th>\n",
       "      <td>n_flights_per_hour</td>\n",
       "      <td>156</td>\n",
       "    </tr>\n",
       "    <tr>\n",
       "      <th>14</th>\n",
       "      <td>weekday</td>\n",
       "      <td>141</td>\n",
       "    </tr>\n",
       "    <tr>\n",
       "      <th>115</th>\n",
       "      <td>NAS_DELAY_OP_CARRIER_AIRLINE_ID_FL_DATE_s7_mean</td>\n",
       "      <td>138</td>\n",
       "    </tr>\n",
       "    <tr>\n",
       "      <th>99</th>\n",
       "      <td>ARR_n_flights_cumsum</td>\n",
       "      <td>136</td>\n",
       "    </tr>\n",
       "    <tr>\n",
       "      <th>113</th>\n",
       "      <td>CARRIER_DELAY_OP_CARRIER_AIRLINE_ID_FL_DATE_s7...</td>\n",
       "      <td>131</td>\n",
       "    </tr>\n",
       "    <tr>\n",
       "      <th>11</th>\n",
       "      <td>day</td>\n",
       "      <td>129</td>\n",
       "    </tr>\n",
       "    <tr>\n",
       "      <th>98</th>\n",
       "      <td>DEP_n_flights_cumsum</td>\n",
       "      <td>124</td>\n",
       "    </tr>\n",
       "    <tr>\n",
       "      <th>107</th>\n",
       "      <td>DEP_DELAY__OP_CARRIER_AIRLINE_ID_FL_DATE_s7_mean</td>\n",
       "      <td>118</td>\n",
       "    </tr>\n",
       "    <tr>\n",
       "      <th>95</th>\n",
       "      <td>DEP_n_flights_per_hour</td>\n",
       "      <td>114</td>\n",
       "    </tr>\n",
       "    <tr>\n",
       "      <th>101</th>\n",
       "      <td>ARR_DELAY__OP_CARRIER_AIRLINE_ID_FL_DATE_s7_mean</td>\n",
       "      <td>113</td>\n",
       "    </tr>\n",
       "    <tr>\n",
       "      <th>117</th>\n",
       "      <td>LATE_AIRCRAFT_DELAY_OP_CARRIER_AIRLINE_ID_FL_D...</td>\n",
       "      <td>111</td>\n",
       "    </tr>\n",
       "    <tr>\n",
       "      <th>103</th>\n",
       "      <td>ARR_DELAY_OP_CARRIER_AIRLINE_ID_FL_DATE_s7_mean</td>\n",
       "      <td>105</td>\n",
       "    </tr>\n",
       "    <tr>\n",
       "      <th>109</th>\n",
       "      <td>DEP_DELAY_OP_CARRIER_AIRLINE_ID_FL_DATE_s7_mean</td>\n",
       "      <td>96</td>\n",
       "    </tr>\n",
       "    <tr>\n",
       "      <th>100</th>\n",
       "      <td>n_flights_cumsum</td>\n",
       "      <td>91</td>\n",
       "    </tr>\n",
       "    <tr>\n",
       "      <th>110</th>\n",
       "      <td>DEP_DELAY_OP_CARRIER_AIRLINE_ID_FL_DATE_s7_std</td>\n",
       "      <td>85</td>\n",
       "    </tr>\n",
       "    <tr>\n",
       "      <th>127</th>\n",
       "      <td>ARR_DELAY_FL_DATE_s14_r14_mean</td>\n",
       "      <td>83</td>\n",
       "    </tr>\n",
       "    <tr>\n",
       "      <th>123</th>\n",
       "      <td>ARR_DELAY_FL_DATE_s7_r7_mean</td>\n",
       "      <td>81</td>\n",
       "    </tr>\n",
       "  </tbody>\n",
       "</table>\n",
       "</div>"
      ],
      "text/plain": [
       "                                               columns  feature_importance\n",
       "138                                             ORIGIN                 747\n",
       "9                                             ARR_TIME                 600\n",
       "142                                         year_month                 445\n",
       "1                                    OP_CARRIER_FL_NUM                 403\n",
       "8                                             DEP_TIME                 335\n",
       "119                NAS_DELAY_ORIGIN_AIRPORT_ID_s7_mean                 213\n",
       "96                              ARR_n_flights_per_hour                 194\n",
       "118            WEATHER_DELAY_ORIGIN_AIRPORT_ID_s7_mean                 192\n",
       "97                                  n_flights_per_hour                 156\n",
       "14                                             weekday                 141\n",
       "115    NAS_DELAY_OP_CARRIER_AIRLINE_ID_FL_DATE_s7_mean                 138\n",
       "99                                ARR_n_flights_cumsum                 136\n",
       "113  CARRIER_DELAY_OP_CARRIER_AIRLINE_ID_FL_DATE_s7...                 131\n",
       "11                                                 day                 129\n",
       "98                                DEP_n_flights_cumsum                 124\n",
       "107   DEP_DELAY__OP_CARRIER_AIRLINE_ID_FL_DATE_s7_mean                 118\n",
       "95                              DEP_n_flights_per_hour                 114\n",
       "101   ARR_DELAY__OP_CARRIER_AIRLINE_ID_FL_DATE_s7_mean                 113\n",
       "117  LATE_AIRCRAFT_DELAY_OP_CARRIER_AIRLINE_ID_FL_D...                 111\n",
       "103    ARR_DELAY_OP_CARRIER_AIRLINE_ID_FL_DATE_s7_mean                 105\n",
       "109    DEP_DELAY_OP_CARRIER_AIRLINE_ID_FL_DATE_s7_mean                  96\n",
       "100                                   n_flights_cumsum                  91\n",
       "110     DEP_DELAY_OP_CARRIER_AIRLINE_ID_FL_DATE_s7_std                  85\n",
       "127                     ARR_DELAY_FL_DATE_s14_r14_mean                  83\n",
       "123                       ARR_DELAY_FL_DATE_s7_r7_mean                  81"
      ]
     },
     "execution_count": 102,
     "metadata": {},
     "output_type": "execute_result"
    }
   ],
   "source": [
    "pd.DataFrame({'columns': X_train.columns,'feature_importance':reg.feature_importances_}).sort_values('feature_importance',ascending=False).head(25)"
   ]
  },
  {
   "cell_type": "code",
   "execution_count": null,
   "metadata": {},
   "outputs": [
    {
     "data": {
      "text/plain": [
       "0.9442073104338289"
      ]
     },
     "execution_count": 103,
     "metadata": {},
     "output_type": "execute_result"
    }
   ],
   "source": [
    "from sklearn.metrics import roc_auc_score\n",
    "\n",
    "roc_auc_score(y_train, reg.predict_proba(X_train)[:, 1])"
   ]
  },
  {
   "cell_type": "code",
   "execution_count": null,
   "metadata": {},
   "outputs": [
    {
     "name": "stdout",
     "output_type": "stream",
     "text": [
      "              precision    recall  f1-score   support\n",
      "\n",
      "           0   0.904750  0.991391  0.946091     56107\n",
      "           1   0.924437  0.502252  0.650878     11765\n",
      "\n",
      "    accuracy                       0.906604     67872\n",
      "   macro avg   0.914593  0.746822  0.798485     67872\n",
      "weighted avg   0.908162  0.906604  0.894919     67872\n",
      "\n"
     ]
    }
   ],
   "source": [
    "from sklearn.metrics import classification_report\n",
    "\n",
    "print(classification_report(y_train, reg.predict(X_train), digits=6))"
   ]
  },
  {
   "cell_type": "code",
   "execution_count": null,
   "metadata": {},
   "outputs": [
    {
     "data": {
      "text/plain": [
       "array([[55624,   483],\n",
       "       [ 5856,  5909]])"
      ]
     },
     "execution_count": 105,
     "metadata": {},
     "output_type": "execute_result"
    }
   ],
   "source": [
    "from sklearn.metrics import confusion_matrix\n",
    "confusion_matrix(y_train, reg.predict(X_train))"
   ]
  },
  {
   "cell_type": "code",
   "execution_count": null,
   "metadata": {},
   "outputs": [
    {
     "data": {
      "text/plain": [
       "<AxesSubplot:>"
      ]
     },
     "execution_count": 106,
     "metadata": {},
     "output_type": "execute_result"
    },
    {
     "data": {
      "image/png": "[encoded data removed]",
      "text/plain": [
       "<Figure size 720x504 with 2 Axes>"
      ]
     },
     "metadata": {
      "needs_background": "light"
     },
     "output_type": "display_data"
    }
   ],
   "source": [
    "plt.figure(figsize = (10,7))\n",
    "sns.heatmap(confusion_matrix(y_train, reg.predict(X_train)), annot=True)"
   ]
  },
  {
   "cell_type": "code",
   "execution_count": null,
   "metadata": {},
   "outputs": [
    {
     "data": {
      "text/plain": [
       "array([[2654,   48],\n",
       "       [ 233,   47]])"
      ]
     },
     "execution_count": 57,
     "metadata": {},
     "output_type": "execute_result"
    }
   ],
   "source": [
    "from sklearn.metrics import confusion_matrix\n",
    "\n",
    "confusion_matrix(y_test, reg.predict(X_test))"
   ]
  },
  {
   "cell_type": "code",
   "execution_count": null,
   "metadata": {},
   "outputs": [
    {
     "ename": "NameError",
     "evalue": "name 'stop' is not defined",
     "output_type": "error",
     "traceback": [
      "\u001b[0;31m---------------------------------------------------------------------------\u001b[0m",
      "\u001b[0;31mNameError\u001b[0m                                 Traceback (most recent call last)",
      "\u001b[0;32m<ipython-input-58-4f76a9dad686>\u001b[0m in \u001b[0;36m<module>\u001b[0;34m\u001b[0m\n\u001b[0;32m----> 1\u001b[0;31m \u001b[0mstop\u001b[0m\u001b[0;34m\u001b[0m\u001b[0;34m\u001b[0m\u001b[0m\n\u001b[0m",
      "\u001b[0;31mNameError\u001b[0m: name 'stop' is not defined"
     ]
    }
   ],
   "source": [
    "stop"
   ]
  },
  {
   "cell_type": "code",
   "execution_count": null,
   "metadata": {},
   "outputs": [],
   "source": [
    "# With SMOTE"
   ]
  },
  {
   "cell_type": "code",
   "execution_count": null,
   "metadata": {},
   "outputs": [],
   "source": [
    "from imblearn.over_sampling import SMOTE\n",
    "from collections import Counter\n",
    "from sklearn.model_selection import GridSearchCV\n"
   ]
  },
  {
   "cell_type": "code",
   "execution_count": null,
   "metadata": {},
   "outputs": [],
   "source": [
    "oversample = SMOTE()\n",
    "X_train_ov, y_train_ov = oversample.fit_resample(X_train, y_train)"
   ]
  },
  {
   "cell_type": "code",
   "execution_count": null,
   "metadata": {},
   "outputs": [
    {
     "name": "stdout",
     "output_type": "stream",
     "text": [
      "Before Sampling\n",
      "Class=0, n=56107 (82.666%)\n",
      "Class=1, n=11765 (17.334%)\n",
      "\n",
      " After Sampling\n",
      "Class=0, n=56107 (82.666%)\n",
      "Class=1, n=56107 (82.666%)\n"
     ]
    }
   ],
   "source": [
    "print('Before Sampling')\n",
    "counter = Counter(y_train)\n",
    "for k,v in counter.items():\n",
    "    per = v / len(y_train) * 100\n",
    "    print('Class=%d, n=%d (%.3f%%)' % (k, v, per))\n",
    "\n",
    "print('\\n After Sampling')\n",
    "counter = Counter(y_train_ov)\n",
    "for k,v in counter.items():\n",
    "    per = v / len(y_train) * 100\n",
    "    print('Class=%d, n=%d (%.3f%%)' % (k, v, per))"
   ]
  },
  {
   "cell_type": "code",
   "execution_count": null,
   "metadata": {},
   "outputs": [
    {
     "name": "stdout",
     "output_type": "stream",
     "text": [
      "Fitting 5 folds for each of 12 candidates, totalling 60 fits\n"
     ]
    },
    {
     "name": "stderr",
     "output_type": "stream",
     "text": [
      "/Users/carlosperezricardo/opt/anaconda3/lib/python3.8/site-packages/joblib/externals/loky/process_executor.py:688: UserWarning: A worker stopped while some jobs were given to the executor. This can be caused by a too short worker timeout or by a memory leak.\n",
      "  warnings.warn(\n"
     ]
    },
    {
     "name": "stdout",
     "output_type": "stream",
     "text": [
      "[LightGBM] [Warning] Accuracy may be bad since you didn't explicitly set num_leaves OR 2^max_depth > num_leaves. (num_leaves=31).\n"
     ]
    }
   ],
   "source": [
    "rf = lgbm.LGBMClassifier(metric='roc_auc')\n",
    "\n",
    "param_dist = {\"max_depth\": [30, 45, 50],\n",
    "                  \"n_estimators\": [150, 200, 250, 300]\n",
    "                 }\n",
    "grid_search = GridSearchCV(rf, n_jobs=-1, param_grid=param_dist, cv = 5, scoring='roc_auc', verbose=20)\n",
    "grid_search.fit(X_train_ov, y_train_ov)\n",
    "smote_model = grid_search.best_estimator_"
   ]
  },
  {
   "cell_type": "code",
   "execution_count": null,
   "metadata": {},
   "outputs": [
    {
     "data": {
      "text/plain": [
       "LGBMClassifier(max_depth=50, metric='roc_auc', n_estimators=300)"
      ]
     },
     "execution_count": 111,
     "metadata": {},
     "output_type": "execute_result"
    }
   ],
   "source": [
    "smote_model = lgbm.LGBMClassifier(metric='roc_auc', n_estimators=300, max_depth=50)\n",
    "smote_model.fit(X_train_ov, y_train_ov)"
   ]
  },
  {
   "cell_type": "code",
   "execution_count": null,
   "metadata": {},
   "outputs": [
    {
     "name": "stdout",
     "output_type": "stream",
     "text": [
      "LGBMClassifier(max_depth=50, metric='roc_auc', n_estimators=300)\n",
      "TRAIN (oversample): 0.987448394179683\n",
      "TRAIN: 0.9415350894677736\n",
      "TEST: 0.7845233689330654\n"
     ]
    }
   ],
   "source": [
    "print(smote_model)\n",
    "y_pred_train_ = smote_model.predict_proba(X_train_ov)[:, 1]\n",
    "y_pred_train = smote_model.predict_proba(X_train)[:, 1]\n",
    "y_pred_test = smote_model.predict_proba(X_test)[:, 1]\n",
    "\n",
    "print(\"TRAIN (oversample):\", roc_auc_score(y_train_ov, y_pred_train_))\n",
    "print(\"TRAIN:\", roc_auc_score(y_train, y_pred_train))\n",
    "print(\"TEST:\", roc_auc_score(y_test, y_pred_test))"
   ]
  },
  {
   "cell_type": "code",
   "execution_count": null,
   "metadata": {},
   "outputs": [
    {
     "data": {
      "text/plain": [
       "array([[55377,   730],\n",
       "       [ 5539,  6226]])"
      ]
     },
     "execution_count": 113,
     "metadata": {},
     "output_type": "execute_result"
    }
   ],
   "source": [
    "from sklearn.metrics import confusion_matrix\n",
    "\n",
    "confusion_matrix(y_train, smote_model.predict(X_train))"
   ]
  }
 ],
 "metadata": {
  "interpreter": {
   "hash": "a6e71bb2feff93c4eeeba69888134cc7eeeee100163e615676f04bff10d6e703"
  },
  "kernelspec": {
   "display_name": "Python 3.8.5 64-bit ('base': conda)",
   "language": "python",
   "name": "python3"
  },
  "language_info": {
   "codemirror_mode": {
    "name": "ipython",
    "version": 3
   },
   "file_extension": ".py",
   "mimetype": "text/x-python",
   "name": "python",
   "nbconvert_exporter": "python",
   "pygments_lexer": "ipython3",
   "version": "3.8.5"
  },
  "orig_nbformat": 4
 },
 "nbformat": 4,
 "nbformat_minor": 2
}
